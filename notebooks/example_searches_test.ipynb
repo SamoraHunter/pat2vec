{
 "cells": [
  {
   "cell_type": "code",
   "execution_count": null,
   "id": "0",
   "metadata": {},
   "outputs": [],
   "source": [
    "import pandas as pd\n",
    "\n",
    "df = pd.read_csv('test_files/treatment_docs.csv')\n",
    "\n",
    "all_patient_list = df['client_idcode'].to_list()[0:5]\n",
    "\n",
    "all_patient_list"
   ]
  },
  {
   "cell_type": "code",
   "execution_count": null,
   "id": "1",
   "metadata": {},
   "outputs": [],
   "source": [
    "!rm -r example_searches_test"
   ]
  },
  {
   "cell_type": "code",
   "execution_count": null,
   "id": "2",
   "metadata": {},
   "outputs": [],
   "source": [
    "import pat2vec\n",
    "\n",
    "from pat2vec.pat2vec_search.cogstack_search_methods import cohort_searcher_with_terms_and_search\n",
    "from pat2vec.util.config_pat2vec import config_class\n",
    "from pat2vec.main_pat2vec import main\n",
    "\n",
    "\n",
    "config_obj = config_class(testing=True, \n",
    "                          verbosity=9,\n",
    "                          proj_name='example_searches_test'\n",
    "                          \n",
    "                          #credentials_path = '../gloabl_files/credentials.py'\n",
    "                          ) # Use defaults, set testing unless in live environment with cogstack instance. \n",
    "\n",
    "pat2vec_obj = main(config_obj= config_obj, cogstack=True) # initialize the pat2vec object with defaults\n",
    "\n"
   ]
  },
  {
   "cell_type": "code",
   "execution_count": null,
   "id": "3",
   "metadata": {},
   "outputs": [],
   "source": [
    "df_appointments = pat2vec.pat2vec_get_methods.get_method_appointments.search_appointments(cohort_searcher_with_terms_and_search = pat2vec_obj.cohort_searcher_with_terms_and_search,\n",
    "                                                                                          client_id_codes=all_patient_list)\n",
    "\n",
    "df_appointments.head()"
   ]
  },
  {
   "cell_type": "code",
   "execution_count": null,
   "id": "4",
   "metadata": {},
   "outputs": [],
   "source": [
    "df_bed = pat2vec.pat2vec_get_methods.get_method_bed.search_bed_data(cohort_searcher_with_terms_and_search = pat2vec_obj.cohort_searcher_with_terms_and_search,\n",
    "                                                                                          client_id_codes=all_patient_list)\n",
    "\n",
    "df_bed.head()"
   ]
  },
  {
   "cell_type": "code",
   "execution_count": null,
   "id": "5",
   "metadata": {},
   "outputs": [],
   "source": [
    "df_bloods = pat2vec.pat2vec_get_methods.get_method_bloods.search_bloods_data(cohort_searcher_with_terms_and_search = pat2vec_obj.cohort_searcher_with_terms_and_search,\n",
    "                                                                                          client_id_codes=all_patient_list)\n",
    "\n",
    "df_bloods.head()"
   ]
  },
  {
   "cell_type": "code",
   "execution_count": null,
   "id": "6",
   "metadata": {},
   "outputs": [],
   "source": [
    "df_bmi = pat2vec.pat2vec_get_methods.get_method_bmi.search_bmi_observations(cohort_searcher_with_terms_and_search = pat2vec_obj.cohort_searcher_with_terms_and_search,\n",
    "                                                                                          client_id_codes=all_patient_list)\n",
    "\n",
    "df_bmi.head()"
   ]
  },
  {
   "cell_type": "code",
   "execution_count": null,
   "id": "7",
   "metadata": {},
   "outputs": [],
   "source": [
    "df_bmi = pat2vec.pat2vec_get_methods.get_method_bmi.search_bmi_observations(cohort_searcher_with_terms_and_search = pat2vec_obj.cohort_searcher_with_terms_and_search,\n",
    "                                                                                          client_id_codes=all_patient_list)\n",
    "\n",
    "df_bmi.head()"
   ]
  },
  {
   "cell_type": "code",
   "execution_count": null,
   "id": "8",
   "metadata": {},
   "outputs": [],
   "source": [
    "from pat2vec.pat2vec_get_methods.get_method_core02 import search_core_o2_observations"
   ]
  },
  {
   "cell_type": "code",
   "execution_count": null,
   "id": "9",
   "metadata": {},
   "outputs": [],
   "source": [
    "df_core_o2 = pat2vec.pat2vec_get_methods.get_method_core02.search_core_o2_observations(cohort_searcher_with_terms_and_search = pat2vec_obj.cohort_searcher_with_terms_and_search,\n",
    "                                                                                          client_id_codes=all_patient_list)\n",
    "\n",
    "df_core_o2.head()"
   ]
  },
  {
   "cell_type": "code",
   "execution_count": null,
   "id": "10",
   "metadata": {},
   "outputs": [],
   "source": [
    "df_core_resus = pat2vec.pat2vec_get_methods.get_method_core_resus.search_core_resus_observations(cohort_searcher_with_terms_and_search = pat2vec_obj.cohort_searcher_with_terms_and_search,\n",
    "                                                                                          client_id_codes=all_patient_list)\n",
    "\n",
    "df_core_resus.head()"
   ]
  },
  {
   "cell_type": "code",
   "execution_count": null,
   "id": "11",
   "metadata": {},
   "outputs": [],
   "source": [
    "df_demo = pat2vec.pat2vec_get_methods.get_method_demo.search_demographics(cohort_searcher_with_terms_and_search = pat2vec_obj.cohort_searcher_with_terms_and_search,\n",
    "                                                                                          client_id_codes=all_patient_list)\n",
    "\n",
    "df_demo.head()"
   ]
  },
  {
   "cell_type": "code",
   "execution_count": null,
   "id": "12",
   "metadata": {},
   "outputs": [],
   "source": [
    "df_diagnostics = pat2vec.pat2vec_get_methods.get_method_diagnostics.search_diagnostic_orders(cohort_searcher_with_terms_and_search = pat2vec_obj.cohort_searcher_with_terms_and_search,\n",
    "                                                                                          client_id_codes=all_patient_list)\n",
    "\n",
    "df_diagnostics.head()"
   ]
  },
  {
   "cell_type": "code",
   "execution_count": null,
   "id": "13",
   "metadata": {},
   "outputs": [],
   "source": [
    "df_drugs = pat2vec.pat2vec_get_methods.get_method_drugs.search_drug_orders(cohort_searcher_with_terms_and_search = pat2vec_obj.cohort_searcher_with_terms_and_search,\n",
    "                                                                                          client_id_codes=all_patient_list)\n",
    "\n",
    "df_drugs.head()"
   ]
  },
  {
   "cell_type": "code",
   "execution_count": null,
   "id": "14",
   "metadata": {},
   "outputs": [],
   "source": [
    "from pat2vec.pat2vec_get_methods.get_method_hosp_site import search_hospital_site"
   ]
  },
  {
   "cell_type": "code",
   "execution_count": null,
   "id": "15",
   "metadata": {},
   "outputs": [],
   "source": [
    "df_hosp_site = pat2vec.pat2vec_get_methods.get_method_hosp_site.search_hospital_site(\n",
    "    cohort_searcher_with_terms_and_search=pat2vec_obj.cohort_searcher_with_terms_and_search,\n",
    "    client_id_codes=all_patient_list\n",
    ")\n",
    "\n",
    "df_hosp_site.head()\n"
   ]
  },
  {
   "cell_type": "code",
   "execution_count": null,
   "id": "16",
   "metadata": {},
   "outputs": [],
   "source": [
    "df_smoking = pat2vec.pat2vec_get_methods.get_method_smoking.search_smoking(\n",
    "    cohort_searcher_with_terms_and_search=pat2vec_obj.cohort_searcher_with_terms_and_search,\n",
    "    client_id_codes=all_patient_list\n",
    ")\n",
    "\n",
    "df_smoking.head()\n"
   ]
  },
  {
   "cell_type": "code",
   "execution_count": null,
   "id": "17",
   "metadata": {},
   "outputs": [],
   "source": [
    "df_vte = pat2vec.pat2vec_get_methods.get_method_vte_status.search_vte(\n",
    "    cohort_searcher_with_terms_and_search=pat2vec_obj.cohort_searcher_with_terms_and_search,\n",
    "    client_id_codes=all_patient_list\n",
    ")\n",
    "\n",
    "df_vte.head()\n"
   ]
  },
  {
   "cell_type": "code",
   "execution_count": null,
   "id": "18",
   "metadata": {},
   "outputs": [],
   "source": []
  }
 ],
 "metadata": {
  "kernelspec": {
   "display_name": "pat2vec_env",
   "language": "python",
   "name": "python3"
  },
  "language_info": {
   "codemirror_mode": {
    "name": "ipython",
    "version": 3
   },
   "file_extension": ".py",
   "mimetype": "text/x-python",
   "name": "python",
   "nbconvert_exporter": "python",
   "pygments_lexer": "ipython3",
   "version": "3.10.12"
  }
 },
 "nbformat": 4,
 "nbformat_minor": 5
}
