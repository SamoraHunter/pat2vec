{
 "cells": [
  {
   "cell_type": "markdown",
   "metadata": {},
   "source": [
    "Ensure pat2vec is on path"
   ]
  },
  {
   "cell_type": "code",
   "execution_count": 1,
   "metadata": {},
   "outputs": [],
   "source": [
    "import sys\n",
    "import os\n",
    "sys.path.insert(0,'/home/aliencat/samora/gloabl_files')\n",
    "sys.path.insert(0,'/data/AS/Samora/gloabl_files')\n",
    "sys.path.insert(0,'/home/jovyan/work/gloabl_files')\n",
    "sys.path.insert(0,'/home/cogstack/samora/_data/gloabl_files')\n",
    "sys.path.append('c:\\\\Users\\\\admin\\\\Documents\\\\projects\\\\pat2vec_time\\\\')\n",
    "sys.path.append(r'C:\\Users\\admin\\Documents\\projects\\gloabl_files')\n",
    "\n",
    "current_dir = os.getcwd()\n",
    "parent_dir = os.path.dirname(current_dir)\n",
    "sys.path.append(parent_dir)\n",
    "\n",
    "# Add the grandparent directory of the current directory to the Python path\n",
    "grandparent_dir = os.path.dirname(parent_dir)\n",
    "sys.path.append(grandparent_dir)\n"
   ]
  },
  {
   "cell_type": "code",
   "execution_count": 2,
   "metadata": {},
   "outputs": [
    {
     "data": {
      "text/plain": [
       "'/home/cogstack/samora/_data/gloabl_files/pat2vec/notebooks'"
      ]
     },
     "execution_count": 2,
     "metadata": {},
     "output_type": "execute_result"
    }
   ],
   "source": [
    "pwd"
   ]
  },
  {
   "cell_type": "code",
   "execution_count": 3,
   "metadata": {},
   "outputs": [
    {
     "name": "stdout",
     "output_type": "stream",
     "text": [
      "/home/cogstack/samora/_data/gloabl_files/pat2vec/notebooks/new_project/<bound method PathsClass._print_paths of <pat2vec.util.current_pat_batch_path_methods.PathsClass object at 0x7fe29c4dcd90>>\n",
      "/home/cogstack/samora/_data/gloabl_files/pat2vec/notebooks/new_project/['current_pat_annots_parts/', 'current_pat_annots_mrc_parts/', 'current_pat_documents_annotations_batches/', 'current_pat_documents_annotations_batches_mct/', 'current_pat_document_batches/', 'current_pat_document_batches_mct/', 'current_pat_bloods_batches/', 'current_pat_drugs_batches/', 'current_pat_diagnostics_batches/', 'current_pat_news_batches/', 'current_pat_obs_batches/', 'current_pat_bmi_batches/', 'current_pat_demo_batches/', 'current_pat_lines_parts/', 'outputs', '/home/cogstack/samora/_data/gloabl_files/pat2vec/notebooks/new_project/outputs']\n",
      "/home/cogstack/samora/_data/gloabl_files/pat2vec/notebooks/new_project/\n",
      "Setting start_date to: 2020-01-01 00:00:00\n",
      "Setting years to: 0\n",
      "Setting months to: 0\n",
      "Setting days to: 2\n",
      "Number of 1-day intervals between 2020-01-01 00:00:00 and the calculated end date: 2\n",
      "looking back with  relativedelta(years=-1)\n",
      "updating global start date\n",
      "Warning: Updated global start date as start date later than global start date.\n"
     ]
    }
   ],
   "source": [
    "from util.config_pat2vec import config_class\n",
    "from datetime import datetime\n",
    "from tqdm import tqdm\n",
    "from util.post_processing import process_csv_files\n",
    "from util.post_processing import extract_datetime_to_column\n",
    "from pat2vec_pat_list.get_patient_treatment_list import get_all_patients_list\n",
    "from util.post_processing import produce_filtered_annotation_dataframe\n",
    "from dateutil.relativedelta import relativedelta\n",
    "import pandas as pd\n",
    "\n",
    "# Configuration dictionary for main options in a medical application\n",
    "main_options_dict = {\n",
    "    # Enable demographic information (Ethnicity mapped to UK census, age, death)\n",
    "    'demo': True,\n",
    "    'bmi': True,  # Enable BMI (Body Mass Index) tracking\n",
    "    'bloods': True,  # Enable blood-related information\n",
    "    'drugs': False,  # Enable drug-related information\n",
    "    'diagnostics': False,  # Enable diagnostic information\n",
    "\n",
    "    'core_02': False,  # Enable core_02 information\n",
    "    'bed': False,  # Enable bed n information\n",
    "    'vte_status': False,  # Enable VTE () status tracking\n",
    "    'hosp_site': False,  # Enable hospital site information\n",
    "    'core_resus': False,  # Enable core resuscitation information\n",
    "    'news': False,  # Enable NEWS (National Early Warning Score) tracking\n",
    "\n",
    "    'smoking': False,  # Enable smoking-related information\n",
    "    'annotations': True,  # Enable EPR annotations\n",
    "    # Enable MRC (Additional clinical note observations index) annotations\n",
    "    'annotations_mrc': True,\n",
    "    # Enable or disable negated presence annotations\n",
    "    'negated_presence_annotations': False\n",
    "}\n",
    "\n",
    "\n",
    "annot_filter_arguments = {\n",
    "    'acc': 0.8,  # base concept accuracy\n",
    "    # umls list of types for medcat filter\n",
    "    'types': ['qualifier value', 'procedure', 'substance', 'finding', 'environment', 'disorder', 'observable entity'],\n",
    "    # 'types': ['qualifier value', 'procedure', 'substance', 'finding', 'environment', 'disorder', 'observable entity', 'organism', 'phenomenon', 'anatomy', 'conceptual entity', 'physical object', 'intellectual product', 'occupation or discipline', 'mental or behavioral dysfunction', 'geographic area', 'population group', 'biomedical or dental material', 'medical device', 'classification', 'regulation or law', 'health care activity', 'health care related organization', 'professional or occupational group', 'group', 'attribute', 'individual behavior']\n",
    "    # Specify the values you want to include in a list. Must be defined in medcat model.\n",
    "    'Time_Value': ['Recent', 'Past'],\n",
    "    'Time_Confidence': 0.8,  # Specify the confidence threshold as a float\n",
    "    # Specify the values you want to include in a list\n",
    "    'Presence_Value': ['True'],\n",
    "    'Presence_Confidence': 0.8,  # Specify the confidence threshold as a float\n",
    "    # Specify the values you want to include in a list\n",
    "    'Subject_Value': ['Patient'],\n",
    "    'Subject_Confidence': 0.8  # Specify the confidence threshold as a float\n",
    "}\n",
    "\n",
    "# Init config obj\n",
    "\n",
    "# Creating a configuration object for a specific task or project\n",
    "config_obj = config_class(\n",
    "    remote_dump=False,  # Flag for remote data dumping. partially deprecated.\n",
    "    suffix='',  # Suffix for file names\n",
    "    # Filename for treatment documentation\n",
    "    treatment_doc_filename='test_files/treatment_docs.csv',\n",
    "    treatment_control_ratio_n=1,  # Ratio for treatment to control\n",
    "    # Project name. patient data batches and vectors stored here.\n",
    "    proj_name='new_project',\n",
    "    current_path_dir=\"\",  # Current path directory\n",
    "    main_options=main_options_dict,  # Dictionary for main options\n",
    "    start_date=(datetime(2020, 1, 1)),  # Starting date for processing\n",
    "    # Number of years to add to the start date. Set the duration of the time window. Window is defined as the start date + years/months/days set here.\n",
    "    years=0,\n",
    "    months=0,  # Number of months to add to the start date\n",
    "    days=2,  # Number of days to add to the start date\n",
    "    # Flag for DGX, set true if in env, each env needs specific paths configured.\n",
    "    dgx=False,\n",
    "    dhcap=False,  # Flag for DHCap\n",
    "    dhcap02=True,  # Flag for DHCap02\n",
    "    batch_mode=True,  # Flag for batch processing mode. only functioning mode.\n",
    "    store_annot=True,  # Flag to store annotations. partially deprecated.\n",
    "    share_sftp=True,  # Flag for sharing via SFTP. partially deprecated\n",
    "    multi_process=False,  # Flag for multi-process execution. deprecated.\n",
    "    annot_first=False,  # Flag for annotation priority. deprecated.\n",
    "    # Flag for stripping lists, will check for completed patients before starting to avoid redundancy.\n",
    "    strip_list=True,\n",
    "    verbosity=0,  # Verbosity level 0-9 printing debug messages\n",
    "    random_seed_val=42,  # Random seed value for reproducibility of controls.\n",
    "    testing=True,  # Flag for testing mode\n",
    "    # Flag for using controls. #will add desired ratio of controls at random from global pool.\n",
    "    use_controls=False,\n",
    "    # Flag for MedCAT processing. #will load medcat into memory and use for annotating.\n",
    "    medcat=True,\n",
    "    # Current timestamp as the start time for logging and progress bar\n",
    "    start_time=datetime.now(),\n",
    "    # Column name for patient ID, auto will try to find it. Example \"client_idcode\"\n",
    "    patient_id_column_name='auto',\n",
    "    annot_filter_options=annot_filter_arguments,  # Annotation filtering options\n",
    "    # Global start year. #set the limits of the time window data can be drawn from. Start should not precede start date set above.\n",
    "    global_start_year=1995, # Global dates are overwritten by individual patient windows to match patient window.\n",
    "    global_start_month=1,  # Global start month\n",
    "    global_end_year=2023,  # Global end year\n",
    "    global_end_month=1, # Global end month\n",
    "    global_start_day = 1, \n",
    "    global_end_day = 1, \n",
    "    shuffle_pat_list=False,  # Flag for shuffling patient list\n",
    "    time_window_interval_delta = relativedelta(years=1), #specify the time window to collapse each feature vector into, years=1 is one vector per year within the global time window\n",
    "    split_clinical_notes=True, #will split clinical notes by date and treat as individual documents with extracted dates. Requires note splitter module. \n",
    "    lookback = True, # when calculating individual patient window from table of start dates, will calculate backwards in time if true. Else Forwards. \n",
    "    add_icd10 = False, #append icd 10 codes to annot batches\n",
    "    add_opc4s=False, # needs icd10 true also.\n",
    "    override_medcat_model_path = None, #Force medcat model path, if None uses defaults for env.\n",
    ")"
   ]
  },
  {
   "cell_type": "code",
   "execution_count": 4,
   "metadata": {},
   "outputs": [
    {
     "data": {
      "text/plain": [
       "'/home/cogstack/samora/_data/gloabl_files/pat2vec/notebooks'"
      ]
     },
     "execution_count": 4,
     "metadata": {},
     "output_type": "execute_result"
    }
   ],
   "source": [
    "pwd"
   ]
  },
  {
   "cell_type": "code",
   "execution_count": 5,
   "metadata": {},
   "outputs": [
    {
     "name": "stdout",
     "output_type": "stream",
     "text": [
      "refreshed\n",
      "refreshed\n",
      "******Watcher connected to ES Cluster!******\n",
      "\n",
      "Cogstack toolbox functions:\n",
      "cohort_searcher_with_terms_and_search(index_name, fields_list, term_name, entered_list, search_string) = Search with terms and search string\n",
      "cohort_searcher_with_terms_no_search(index_name, fields_list, term_name, entered_list) = Search with terms only\n",
      "cohort_searcher_no_terms(index_name, fields_list, search_string) = Search with search string only\n",
      "matcher(data_template_df, lab_results_df, source_patid_colname, source_date_colname, result_date_colname, result_testname, result_resultname, before, after) = match template with dataset\n",
      "**NOTE: matcher throws up an error if dates are not converted to datetime**\n",
      "stringlist2searchlist(string_list, output_name) = convert a list of strings to a lucene search string\n",
      "pylist2searchlist(list_name, output_name) = convert a list of strings to a python list\n",
      "stringlist2pylist(string_list, var_name) = convert a python list to a lucene search string\n",
      "date_cleaner(dfs, cols, date_format) = specify the df(s) and columns to convert them to the correct datatype\n",
      "bulk_str_extract(target_colname_regex_pairs, source_colname, df_name) = target_colname_regex_pairs = {\"col_title\":r'regex_string'}\n",
      "bulk_str_findall(target_colname_regex_pairs, source_colname, df_name)\n",
      "demo_columns = \"client_idcode\", \"client_firstname\", \"client_lastname\", \"client_dob\", \"client_gendercode\", \"client_racecode\", \"client_deceaseddtm\", \"updatetime\"\n",
      "\n",
      "******Watcher connected to ES Cluster!******\n"
     ]
    }
   ],
   "source": [
    "from main_pat2vec import main"
   ]
  },
  {
   "cell_type": "code",
   "execution_count": 6,
   "metadata": {},
   "outputs": [
    {
     "name": "stdout",
     "output_type": "stream",
     "text": [
      "Init cohort_searcher_with_terms_and_search_dummy function\n",
      "Initialized pat2vec.main\n",
      "Setting NO gpu, most free memory: 3999 !\n"
     ]
    },
    {
     "name": "stderr",
     "output_type": "stream",
     "text": [
      "Bar desc:   0%|\u001b[32m          \u001b[0m| 0/3 [00:00<?, ?it/s]"
     ]
    },
    {
     "name": "stdout",
     "output_type": "stream",
     "text": [
      "Variable 'medcat_path' imported successfully from 'paths.py' file.\n",
      "medcat_path: /home/cogstack/samora/_data/medcat_models/medcat_model_pack_bec3865f4a29ee20.zip\n"
     ]
    },
    {
     "name": "stderr",
     "output_type": "stream",
     "text": [
      "2024-02-06 21:56:13.988684: E external/local_xla/xla/stream_executor/cuda/cuda_dnn.cc:9261] Unable to register cuDNN factory: Attempting to register factory for plugin cuDNN when one has already been registered\n",
      "2024-02-06 21:56:13.988734: E external/local_xla/xla/stream_executor/cuda/cuda_fft.cc:607] Unable to register cuFFT factory: Attempting to register factory for plugin cuFFT when one has already been registered\n",
      "2024-02-06 21:56:13.990571: E external/local_xla/xla/stream_executor/cuda/cuda_blas.cc:1515] Unable to register cuBLAS factory: Attempting to register factory for plugin cuBLAS when one has already been registered\n",
      "2024-02-06 21:56:14.000568: I tensorflow/core/platform/cpu_feature_guard.cc:182] This TensorFlow binary is optimized to use available CPU instructions in performance-critical operations.\n",
      "To enable the following instructions: AVX2 AVX512F FMA, in other operations, rebuild TensorFlow with the appropriate compiler flags.\n",
      "2024-02-06 21:56:15.129862: W tensorflow/compiler/tf2tensorrt/utils/py_utils.cc:38] TF-TRT Warning: Could not find TensorRT\n",
      "100%|██████████| 1/1 [00:00<00:00, 2796.20it/s]\n"
     ]
    }
   ],
   "source": [
    "pat2vec_obj = main( cogstack=True, use_filter=False,\n",
    "             json_filter_path = None, random_seed_val=42, \n",
    "             hostname =None, config_obj= config_obj, )\n"
   ]
  },
  {
   "cell_type": "markdown",
   "metadata": {},
   "source": [
    "View patient list"
   ]
  },
  {
   "cell_type": "code",
   "execution_count": 7,
   "metadata": {},
   "outputs": [
    {
     "data": {
      "text/plain": [
       "['D3232DUM23', 'Z982DUM23', 'P545DUM23']"
      ]
     },
     "execution_count": 7,
     "metadata": {},
     "output_type": "execute_result"
    }
   ],
   "source": [
    "pat2vec_obj.all_patient_list"
   ]
  },
  {
   "cell_type": "markdown",
   "metadata": {},
   "source": [
    "Make pat vectors for pat 0"
   ]
  },
  {
   "cell_type": "code",
   "execution_count": 8,
   "metadata": {},
   "outputs": [
    {
     "name": "stderr",
     "output_type": "stream",
     "text": [
      "s: None | D3232DUM23_(2020, 1, 1) | task: \u001b[33mdrugs | {}:   0%|          | 0/3 [00:49<?, ?it/s]t/s]              "
     ]
    },
    {
     "name": "stdout",
     "output_type": "stream",
     "text": [
      "2020 1 1 2023 1 1\n",
      "2020 1 1 2023 1 1\n",
      "2020 1 1 2023 1 1\n",
      "2020 1 1 2023 1 1\n",
      "2020 1 1 2023 1 1\n",
      "2020 1 1 2023 1 1\n",
      "2020 1 1 2023 1 1\n",
      "2020 1 1 2023 1 1\n",
      "2020 1 1 2023 1 1\n",
      "Index name is not 'epr_documents', 'observations', 'basic_observations'. Returning an empty DataFrame.\n",
      "2020 1 1 2023 1 1\n",
      "Index name is not 'epr_documents', 'observations', 'basic_observations'. Returning an empty DataFrame.\n",
      "2020 1 1 2023 1 1\n",
      "2020 1 1 2023 1 1\n",
      "generate_basic_observations_data\n",
      "RangeIndex(start=0, stop=0, step=1)\n",
      "list index out of range\n",
      "Traceback (most recent call last):\n",
      "  File \"/home/cogstack/samora/_data/gloabl_files/pat2vec/pat2vec_main_methods/main_batch.py\", line 142, in main_batch\n",
      "    current_pat_drugs = get_current_pat_drugs(\n",
      "  File \"/home/cogstack/samora/_data/gloabl_files/pat2vec/pat2vec_get_methods/get_method_drugs.py\", line 105, in get_current_pat_drugs\n",
      "    axes_labels = df_unique.axes[2]  # Accessing axis 2 labels\n",
      "IndexError: list index out of range\n",
      "\n",
      "Reproduce on ('D3232DUM23', (2020, 1, 1))\n",
      "An exception of type IndexError occurred. Arguments:\n",
      "('list index out of range',)\n",
      "list index out of range\n",
      "Exception in patmaker on ('D3232DUM23', (2020, 1, 1))\n",
      "Traceback (most recent call last):\n",
      "  File \"/home/cogstack/samora/_data/gloabl_files/pat2vec/main_pat2vec.py\", line 588, in pat_maker\n",
      "    main_batch(all_patient_list[i],\n",
      "  File \"/home/cogstack/samora/_data/gloabl_files/pat2vec/pat2vec_main_methods/main_batch.py\", line 142, in main_batch\n",
      "    current_pat_drugs = get_current_pat_drugs(\n",
      "  File \"/home/cogstack/samora/_data/gloabl_files/pat2vec/pat2vec_get_methods/get_method_drugs.py\", line 105, in get_current_pat_drugs\n",
      "    axes_labels = df_unique.axes[2]  # Accessing axis 2 labels\n",
      "IndexError: list index out of range\n",
      "\n"
     ]
    },
    {
     "ename": "IndexError",
     "evalue": "list index out of range",
     "output_type": "error",
     "traceback": [
      "\u001b[0;31m---------------------------------------------------------------------------\u001b[0m",
      "\u001b[0;31mIndexError\u001b[0m                                Traceback (most recent call last)",
      "Cell \u001b[0;32mIn[8], line 1\u001b[0m\n\u001b[0;32m----> 1\u001b[0m \u001b[43mpat2vec_obj\u001b[49m\u001b[38;5;241;43m.\u001b[39;49m\u001b[43mpat_maker\u001b[49m\u001b[43m(\u001b[49m\u001b[38;5;241;43m0\u001b[39;49m\u001b[43m)\u001b[49m\n",
      "File \u001b[0;32m~/samora/_data/gloabl_files/pat2vec/main_pat2vec.py:619\u001b[0m, in \u001b[0;36mmain.pat_maker\u001b[0;34m(self, i)\u001b[0m\n\u001b[1;32m    616\u001b[0m         \u001b[38;5;28mprint\u001b[39m(\n\u001b[1;32m    617\u001b[0m             \u001b[38;5;124mf\u001b[39m\u001b[38;5;124m\"\u001b[39m\u001b[38;5;124mException in patmaker on \u001b[39m\u001b[38;5;132;01m{\u001b[39;00mall_patient_list[i],\u001b[38;5;250m \u001b[39mdate_list[j]\u001b[38;5;132;01m}\u001b[39;00m\u001b[38;5;124m\"\u001b[39m)\n\u001b[1;32m    618\u001b[0m         \u001b[38;5;28mprint\u001b[39m(traceback\u001b[38;5;241m.\u001b[39mformat_exc())\n\u001b[0;32m--> 619\u001b[0m         \u001b[38;5;28;01mraise\u001b[39;00m e\n\u001b[1;32m    621\u001b[0m \u001b[38;5;28;01mif\u001b[39;00m remote_dump:\n\u001b[1;32m    622\u001b[0m     \u001b[38;5;28mself\u001b[39m\u001b[38;5;241m.\u001b[39msftp_obj\u001b[38;5;241m.\u001b[39mclose()\n",
      "File \u001b[0;32m~/samora/_data/gloabl_files/pat2vec/main_pat2vec.py:588\u001b[0m, in \u001b[0;36mmain.pat_maker\u001b[0;34m(self, i)\u001b[0m\n\u001b[1;32m    584\u001b[0m             get_current_pat_annotations_mct_batch_to_file(\n\u001b[1;32m    585\u001b[0m                 all_patient_list[i], date_list[j], batch_mct, sftp_obj, skip_check\u001b[38;5;241m=\u001b[39mskip_check)\n\u001b[1;32m    587\u001b[0m         \u001b[38;5;28;01melse\u001b[39;00m:\n\u001b[0;32m--> 588\u001b[0m             \u001b[43mmain_batch\u001b[49m\u001b[43m(\u001b[49m\u001b[43mall_patient_list\u001b[49m\u001b[43m[\u001b[49m\u001b[43mi\u001b[49m\u001b[43m]\u001b[49m\u001b[43m,\u001b[49m\n\u001b[1;32m    589\u001b[0m \u001b[43m                       \u001b[49m\u001b[43mdate_list\u001b[49m\u001b[43m[\u001b[49m\u001b[43mj\u001b[49m\u001b[43m]\u001b[49m\u001b[43m,\u001b[49m\n\u001b[1;32m    590\u001b[0m \u001b[43m                       \u001b[49m\u001b[43mbatch_demo\u001b[49m\u001b[38;5;241;43m=\u001b[39;49m\u001b[43mbatch_demo\u001b[49m\u001b[43m,\u001b[49m\n\u001b[1;32m    591\u001b[0m \u001b[43m                       \u001b[49m\u001b[43mbatch_smoking\u001b[49m\u001b[38;5;241;43m=\u001b[39;49m\u001b[43mbatch_smoking\u001b[49m\u001b[43m,\u001b[49m\n\u001b[1;32m    592\u001b[0m \u001b[43m                       \u001b[49m\u001b[43mbatch_core_02\u001b[49m\u001b[38;5;241;43m=\u001b[39;49m\u001b[43mbatch_core_02\u001b[49m\u001b[43m,\u001b[49m\n\u001b[1;32m    593\u001b[0m \u001b[43m                       \u001b[49m\u001b[43mbatch_bednumber\u001b[49m\u001b[38;5;241;43m=\u001b[39;49m\u001b[43mbatch_bednumber\u001b[49m\u001b[43m,\u001b[49m\n\u001b[1;32m    594\u001b[0m \u001b[43m                       \u001b[49m\u001b[43mbatch_vte\u001b[49m\u001b[38;5;241;43m=\u001b[39;49m\u001b[43mbatch_vte\u001b[49m\u001b[43m,\u001b[49m\n\u001b[1;32m    595\u001b[0m \u001b[43m                       \u001b[49m\u001b[43mbatch_hospsite\u001b[49m\u001b[38;5;241;43m=\u001b[39;49m\u001b[43mbatch_hospsite\u001b[49m\u001b[43m,\u001b[49m\n\u001b[1;32m    596\u001b[0m \u001b[43m                       \u001b[49m\u001b[43mbatch_resus\u001b[49m\u001b[38;5;241;43m=\u001b[39;49m\u001b[43mbatch_resus\u001b[49m\u001b[43m,\u001b[49m\n\u001b[1;32m    597\u001b[0m \u001b[43m                       \u001b[49m\u001b[43mbatch_news\u001b[49m\u001b[38;5;241;43m=\u001b[39;49m\u001b[43mbatch_news\u001b[49m\u001b[43m,\u001b[49m\n\u001b[1;32m    598\u001b[0m \u001b[43m                       \u001b[49m\u001b[43mbatch_bmi\u001b[49m\u001b[38;5;241;43m=\u001b[39;49m\u001b[43mbatch_bmi\u001b[49m\u001b[43m,\u001b[49m\n\u001b[1;32m    599\u001b[0m \u001b[43m                       \u001b[49m\u001b[43mbatch_diagnostics\u001b[49m\u001b[38;5;241;43m=\u001b[39;49m\u001b[43mbatch_diagnostics\u001b[49m\u001b[43m,\u001b[49m\n\u001b[1;32m    600\u001b[0m \u001b[43m                       \u001b[49m\u001b[43mbatch_epr\u001b[49m\u001b[38;5;241;43m=\u001b[39;49m\u001b[43mbatch_epr\u001b[49m\u001b[43m,\u001b[49m\n\u001b[1;32m    601\u001b[0m \u001b[43m                       \u001b[49m\u001b[43mbatch_mct\u001b[49m\u001b[38;5;241;43m=\u001b[39;49m\u001b[43mbatch_mct\u001b[49m\u001b[43m,\u001b[49m\n\u001b[1;32m    602\u001b[0m \u001b[43m                       \u001b[49m\u001b[43mbatch_bloods\u001b[49m\u001b[38;5;241;43m=\u001b[39;49m\u001b[43mbatch_bloods\u001b[49m\u001b[43m,\u001b[49m\n\u001b[1;32m    603\u001b[0m \u001b[43m                       \u001b[49m\u001b[43mbatch_drugs\u001b[49m\u001b[38;5;241;43m=\u001b[39;49m\u001b[43mbatch_drugs\u001b[49m\u001b[43m,\u001b[49m\n\u001b[1;32m    604\u001b[0m \u001b[43m                       \u001b[49m\u001b[43mbatch_epr_docs_annotations\u001b[49m\u001b[38;5;241;43m=\u001b[39;49m\u001b[43mbatch_epr_docs_annotations\u001b[49m\u001b[43m,\u001b[49m\n\u001b[1;32m    605\u001b[0m \u001b[43m                       \u001b[49m\u001b[43mbatch_epr_docs_annotations_mct\u001b[49m\u001b[38;5;241;43m=\u001b[39;49m\u001b[43mbatch_epr_docs_annotations_mct\u001b[49m\u001b[43m,\u001b[49m\n\u001b[1;32m    606\u001b[0m \u001b[43m                       \u001b[49m\u001b[43mconfig_obj\u001b[49m\u001b[38;5;241;43m=\u001b[39;49m\u001b[38;5;28;43mself\u001b[39;49m\u001b[38;5;241;43m.\u001b[39;49m\u001b[43mconfig_obj\u001b[49m\u001b[43m,\u001b[49m\n\u001b[1;32m    607\u001b[0m \u001b[43m                       \u001b[49m\u001b[43mstripped_list_start\u001b[49m\u001b[38;5;241;43m=\u001b[39;49m\u001b[43mstripped_list_start\u001b[49m\u001b[43m,\u001b[49m\n\u001b[1;32m    608\u001b[0m \u001b[43m                       \u001b[49m\u001b[43mt\u001b[49m\u001b[38;5;241;43m=\u001b[39;49m\u001b[38;5;28;43mself\u001b[39;49m\u001b[38;5;241;43m.\u001b[39;49m\u001b[43mt\u001b[49m\u001b[43m,\u001b[49m\n\u001b[1;32m    609\u001b[0m \u001b[43m                       \u001b[49m\u001b[43mcohort_searcher_with_terms_and_search\u001b[49m\u001b[38;5;241;43m=\u001b[39;49m\u001b[38;5;28;43mself\u001b[39;49m\u001b[38;5;241;43m.\u001b[39;49m\u001b[43mcohort_searcher_with_terms_and_search\u001b[49m\u001b[43m,\u001b[49m\n\u001b[1;32m    610\u001b[0m \u001b[43m                       \u001b[49m\u001b[43mcat\u001b[49m\u001b[38;5;241;43m=\u001b[39;49m\u001b[38;5;28;43mself\u001b[39;49m\u001b[38;5;241;43m.\u001b[39;49m\u001b[43mcat\u001b[49m\n\u001b[1;32m    611\u001b[0m \n\u001b[1;32m    612\u001b[0m \u001b[43m                       \u001b[49m\u001b[43m)\u001b[49m\n\u001b[1;32m    614\u001b[0m \u001b[38;5;28;01mexcept\u001b[39;00m \u001b[38;5;167;01mException\u001b[39;00m \u001b[38;5;28;01mas\u001b[39;00m e:\n\u001b[1;32m    615\u001b[0m     \u001b[38;5;28mprint\u001b[39m(e)\n",
      "File \u001b[0;32m~/samora/_data/gloabl_files/pat2vec/pat2vec_main_methods/main_batch.py:142\u001b[0m, in \u001b[0;36mmain_batch\u001b[0;34m(current_pat_client_id_code, target_date_range, batch_demo, batch_smoking, batch_core_02, batch_bednumber, batch_vte, batch_hospsite, batch_resus, batch_news, batch_bmi, batch_diagnostics, batch_epr, batch_mct, batch_bloods, batch_drugs, batch_epr_docs_annotations, batch_epr_docs_annotations_mct, config_obj, stripped_list_start, t, cohort_searcher_with_terms_and_search, cat)\u001b[0m\n\u001b[1;32m    139\u001b[0m \u001b[38;5;28;01mif\u001b[39;00m main_options\u001b[38;5;241m.\u001b[39mget(\u001b[38;5;124m'\u001b[39m\u001b[38;5;124mdrugs\u001b[39m\u001b[38;5;124m'\u001b[39m):\n\u001b[1;32m    140\u001b[0m     update_pbar(p_bar_entry, start_time,\n\u001b[1;32m    141\u001b[0m                 \u001b[38;5;241m3\u001b[39m, \u001b[38;5;124m'\u001b[39m\u001b[38;5;124mdrugs\u001b[39m\u001b[38;5;124m'\u001b[39m, t, config_obj)\n\u001b[0;32m--> 142\u001b[0m     current_pat_drugs \u001b[38;5;241m=\u001b[39m \u001b[43mget_current_pat_drugs\u001b[49m\u001b[43m(\u001b[49m\n\u001b[1;32m    143\u001b[0m \u001b[43m        \u001b[49m\u001b[43mcurrent_pat_client_id_code\u001b[49m\u001b[43m,\u001b[49m\u001b[43m \u001b[49m\u001b[43mtarget_date_range\u001b[49m\u001b[43m,\u001b[49m\u001b[43m \u001b[49m\u001b[43mbatch_drugs\u001b[49m\u001b[43m,\u001b[49m\u001b[43m \u001b[49m\u001b[43mconfig_obj\u001b[49m\u001b[38;5;241;43m=\u001b[39;49m\u001b[43mconfig_obj\u001b[49m\u001b[43m)\u001b[49m\n\u001b[1;32m    144\u001b[0m     patient_vector\u001b[38;5;241m.\u001b[39mappend(current_pat_drugs)\n\u001b[1;32m    146\u001b[0m \u001b[38;5;28;01mif\u001b[39;00m main_options\u001b[38;5;241m.\u001b[39mget(\u001b[38;5;124m'\u001b[39m\u001b[38;5;124mdiagnostics\u001b[39m\u001b[38;5;124m'\u001b[39m):\n",
      "File \u001b[0;32m~/samora/_data/gloabl_files/pat2vec/pat2vec_get_methods/get_method_drugs.py:105\u001b[0m, in \u001b[0;36mget_current_pat_drugs\u001b[0;34m(current_pat_client_id_code, target_date_range, pat_batch, config_obj, cohort_searcher_with_terms_and_search)\u001b[0m\n\u001b[1;32m    103\u001b[0m axes_labels \u001b[38;5;241m=\u001b[39m df_unique\u001b[38;5;241m.\u001b[39maxes[\u001b[38;5;241m0\u001b[39m]  \u001b[38;5;66;03m# Accessing axis 2 labels\u001b[39;00m\n\u001b[1;32m    104\u001b[0m \u001b[38;5;28mprint\u001b[39m(axes_labels)\n\u001b[0;32m--> 105\u001b[0m axes_labels \u001b[38;5;241m=\u001b[39m \u001b[43mdf_unique\u001b[49m\u001b[38;5;241;43m.\u001b[39;49m\u001b[43maxes\u001b[49m\u001b[43m[\u001b[49m\u001b[38;5;241;43m2\u001b[39;49m\u001b[43m]\u001b[49m  \u001b[38;5;66;03m# Accessing axis 2 labels\u001b[39;00m\n\u001b[1;32m    106\u001b[0m \u001b[38;5;28mprint\u001b[39m(axes_labels)\n\u001b[1;32m    107\u001b[0m df_unique\u001b[38;5;241m.\u001b[39mdrop([\u001b[38;5;124m'\u001b[39m\u001b[38;5;124m_index\u001b[39m\u001b[38;5;124m'\u001b[39m, \u001b[38;5;124m'\u001b[39m\u001b[38;5;124m_id\u001b[39m\u001b[38;5;124m'\u001b[39m, \u001b[38;5;124m'\u001b[39m\u001b[38;5;124m_score\u001b[39m\u001b[38;5;124m'\u001b[39m, \u001b[38;5;124m'\u001b[39m\u001b[38;5;124morder_guid\u001b[39m\u001b[38;5;124m'\u001b[39m, \u001b[38;5;124m'\u001b[39m\u001b[38;5;124morder_name\u001b[39m\u001b[38;5;124m'\u001b[39m,\n\u001b[1;32m    108\u001b[0m                 \u001b[38;5;124m'\u001b[39m\u001b[38;5;124morder_summaryline\u001b[39m\u001b[38;5;124m'\u001b[39m, \u001b[38;5;124m'\u001b[39m\u001b[38;5;124morder_holdreasontext\u001b[39m\u001b[38;5;124m'\u001b[39m, \u001b[38;5;124m'\u001b[39m\u001b[38;5;124morder_entered\u001b[39m\u001b[38;5;124m'\u001b[39m,\n\u001b[1;32m    109\u001b[0m                 \u001b[38;5;124m'\u001b[39m\u001b[38;5;124mclientvisit_visitidcode\u001b[39m\u001b[38;5;124m'\u001b[39m], inplace\u001b[38;5;241m=\u001b[39m\u001b[38;5;28;01mTrue\u001b[39;00m, axis\u001b[38;5;241m=\u001b[39m\u001b[38;5;241m1\u001b[39m)\n",
      "\u001b[0;31mIndexError\u001b[0m: list index out of range"
     ]
    }
   ],
   "source": [
    "pat2vec_obj.pat_maker(0)"
   ]
  },
  {
   "cell_type": "code",
   "execution_count": null,
   "metadata": {},
   "outputs": [],
   "source": [
    "# Remove specific patient raw documents and annotations:\n",
    "#from pat2vec.util.post_processing import remove_file_from_paths\n",
    "\n",
    "# remove_file_from_paths(pat2vec_obj.all_patient_list[i])"
   ]
  },
  {
   "cell_type": "code",
   "execution_count": null,
   "metadata": {},
   "outputs": [],
   "source": [
    "\n",
    "\n",
    "for i in tqdm(range(0,len(pat2vec_obj.all_patient_list))):\n",
    "    \n",
    "    pat2vec_obj.pat_maker(i)\n",
    "    pat2vec_obj.t.update(1)\n",
    "    \n",
    "pat2vec_obj.t.close()"
   ]
  },
  {
   "cell_type": "code",
   "execution_count": null,
   "metadata": {},
   "outputs": [],
   "source": [
    "\n",
    "input_directory = 'new_project/current_pat_lines_parts'\n",
    "output_csv_file = 'output_file.csv'\n",
    "\n",
    "\n",
    "process_csv_files(input_directory, out_folder='outputs', output_filename_suffix=output_csv_file, part_size=336)\n",
    "\n"
   ]
  },
  {
   "cell_type": "code",
   "execution_count": null,
   "metadata": {},
   "outputs": [],
   "source": [
    "df = pd.read_csv(output_csv_file)"
   ]
  },
  {
   "cell_type": "code",
   "execution_count": null,
   "metadata": {},
   "outputs": [],
   "source": [
    "df"
   ]
  },
  {
   "cell_type": "code",
   "execution_count": null,
   "metadata": {},
   "outputs": [],
   "source": [
    "\n",
    "\n",
    "\n",
    "df = extract_datetime_to_column(df)"
   ]
  },
  {
   "cell_type": "markdown",
   "metadata": {},
   "source": [
    "### Filter the annotation batches by a snomed cui and its related codes. "
   ]
  },
  {
   "cell_type": "code",
   "execution_count": null,
   "metadata": {},
   "outputs": [],
   "source": [
    "from snomed_methods import snomed_methods_v1\n",
    "snomed_relations_obj = snomed_methods_v1.snomed_relations(medcat=True, snomed_rf2_full_path=None)\n",
    "\n",
    "outcome_variable_cui_for_filter = '40733004'  # infection\n",
    "\n",
    "print(outcome_variable_cui_for_filter)\n",
    "\n",
    "filter_root_cui = outcome_variable_cui_for_filter\n",
    "print(filter_root_cui)\n",
    "\n",
    "retrieved_codes_snomed_tree, retrieved_names_snomed_tree = snomed_relations_obj.recursive_code_expansion(filter_root_cui, n_recursion = 3, debug=False)\n",
    "\n",
    "retrieved_codes_snomed_tree[0:5], len(retrieved_codes_snomed_tree), len(retrieved_names_snomed_tree)\n",
    "\n",
    "\n",
    "\n"
   ]
  },
  {
   "cell_type": "code",
   "execution_count": null,
   "metadata": {},
   "outputs": [],
   "source": [
    "retrieved_names_snomed_tree[0:10]"
   ]
  },
  {
   "cell_type": "code",
   "execution_count": null,
   "metadata": {},
   "outputs": [],
   "source": [
    "retrieved_codes_medcat_cdb, retrieved_names_medcat_cdb  = snomed_relations_obj.get_medcat_cdb_most_similar(filter_root_cui, context_type = 'xxxlong', type_id_filter=[], topn=25)"
   ]
  },
  {
   "cell_type": "code",
   "execution_count": null,
   "metadata": {},
   "outputs": [],
   "source": [
    "retrieved_names_medcat_cdb[0:10]"
   ]
  },
  {
   "cell_type": "code",
   "execution_count": null,
   "metadata": {},
   "outputs": [],
   "source": [
    "all_names_list = list(set(retrieved_names_medcat_cdb + retrieved_names_snomed_tree))\n",
    "\n",
    "all_codes_list = list(set(retrieved_codes_medcat_cdb + retrieved_codes_snomed_tree))\n",
    "\n",
    "print(len(all_names_list))"
   ]
  },
  {
   "cell_type": "code",
   "execution_count": null,
   "metadata": {},
   "outputs": [],
   "source": []
  },
  {
   "cell_type": "code",
   "execution_count": null,
   "metadata": {},
   "outputs": [],
   "source": [
    "\n",
    "\n",
    "all_pat_list_ = get_all_patients_list(config_obj=pat2vec_obj.config_obj)\n",
    "\n",
    "\n",
    "all_annot_filtered_df = produce_filtered_annotation_dataframe(cui_filter=True, meta_annot_filter=True, pat_list=all_pat_list_, config_obj=pat2vec_obj.config_obj, filter_custom_args=pat2vec_obj.config_obj.annot_filter_options, cui_code_list=all_codes_list)"
   ]
  },
  {
   "cell_type": "code",
   "execution_count": null,
   "metadata": {},
   "outputs": [],
   "source": [
    "all_annot_filtered_df"
   ]
  }
 ],
 "metadata": {
  "kernelspec": {
   "display_name": ".venv",
   "language": "python",
   "name": "python3"
  },
  "language_info": {
   "codemirror_mode": {
    "name": "ipython",
    "version": 3
   },
   "file_extension": ".py",
   "mimetype": "text/x-python",
   "name": "python",
   "nbconvert_exporter": "python",
   "pygments_lexer": "ipython3",
   "version": "3.9.18"
  }
 },
 "nbformat": 4,
 "nbformat_minor": 2
}
