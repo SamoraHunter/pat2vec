{
 "cells": [
  {
   "cell_type": "markdown",
   "metadata": {},
   "source": [
    "Ensure dependencies are on path\n",
    "\n",
    "Hard: \n",
    "\n",
    "\n",
    "Optional:"
   ]
  },
  {
   "cell_type": "code",
   "execution_count": null,
   "metadata": {},
   "outputs": [],
   "source": [
    "import os\n",
    "\n",
    "# Get the current working directory\n",
    "current_dir = os.getcwd()\n",
    "\n",
    "# Define relative paths from the current working directory\n",
    "path_to_medcat_model_pack = os.path.abspath(os.path.join(current_dir, '..', '..', 'medcat_models', 'medcat_model_pack_422d1d38fc58f158.zip'))\n",
    "\n",
    "path_to_snomed_ct_file = os.path.abspath(os.path.join(current_dir, '..', '..', 'snomed', 'SnomedCT_InternationalRF2_PRODUCTION_20231101T120000Z', 'SnomedCT_InternationalRF2_PRODUCTION_20231101T120000Z', 'Full', 'Terminology', 'sct2_StatedRelationship_Full_INT_20231101.txt'))\n",
    "\n",
    " # Define the relative path\n",
    "path_to_gloabl_files = '../../'\n",
    "\n",
    "additional_path_to_pat2vec = 'pat2vec'\n",
    "\n",
    "additional_path_to_pat2vec = os.path.abspath(os.path.join(path_to_gloabl_files, additional_path_to_pat2vec))\n",
    "\n",
    "# Get the absolute path of the current working directory\n",
    "current_dir = os.getcwd()\n",
    "\n",
    "# Combine the current directory with the relative path\n",
    "absolute_path = os.path.abspath(os.path.join(current_dir, path_to_gloabl_files))\n",
    "\n",
    "\n",
    "# Usage examples\n",
    "print(path_to_medcat_model_pack)\n",
    "print(path_to_snomed_ct_file)\n",
    "print(path_to_gloabl_files)\n",
    "print(additional_path_to_pat2vec)\n"
   ]
  },
  {
   "cell_type": "code",
   "execution_count": 2,
   "metadata": {},
   "outputs": [],
   "source": [
    "import sys\n",
    "\n",
    "\n",
    "sys.path.insert(0, path_to_gloabl_files)\n",
    "sys.path.insert(0, additional_path_to_pat2vec)\n",
    "\n",
    "\n",
    "current_dir = os.getcwd()\n",
    "parent_dir = os.path.dirname(current_dir)\n",
    "sys.path.append(parent_dir)\n",
    "\n",
    "# Add the grandparent directory of the current directory to the Python path\n",
    "grandparent_dir = os.path.dirname(parent_dir)\n",
    "sys.path.append(grandparent_dir)\n"
   ]
  },
  {
   "cell_type": "markdown",
   "metadata": {},
   "source": [
    "### Set up logger"
   ]
  },
  {
   "cell_type": "code",
   "execution_count": 3,
   "metadata": {},
   "outputs": [],
   "source": [
    "from pat2vec.util.logger_setup import setup_logger\n",
    "\n",
    "# Get the logger\n",
    "logger = setup_logger()"
   ]
  },
  {
   "cell_type": "markdown",
   "metadata": {},
   "source": [
    "# Get treatment_docs "
   ]
  },
  {
   "cell_type": "code",
   "execution_count": null,
   "metadata": {},
   "outputs": [],
   "source": [
    "from pat2vec.util.config_pat2vec import config_class\n",
    "\n",
    "\n",
    "config_obj = config_class(medcat=True,\n",
    "                          override_medcat_model_path = path_to_medcat_model_pack,\n",
    "                          proj_name='treatment_doc_extract',\n",
    "                          verbosity=0,\n",
    "                          global_start_year=1995,\n",
    "                          global_end_year=2024,\n",
    "                          global_start_month=1,\n",
    "                          global_end_month=12,\n",
    "                          global_start_day=1,\n",
    "                          global_end_day=31,\n",
    "                          lookback=False,\n",
    "                          testing=True\n",
    "                          )\n"
   ]
  },
  {
   "cell_type": "code",
   "execution_count": null,
   "metadata": {},
   "outputs": [],
   "source": [
    "from pat2vec.main_pat2vec import main\n",
    "\n",
    "pat2vec_obj = main( cogstack=True, use_filter=False,\n",
    "             json_filter_path = None, random_seed_val=42, \n",
    "             hostname =None, config_obj= config_obj, )\n",
    "\n",
    "\n"
   ]
  },
  {
   "cell_type": "code",
   "execution_count": 6,
   "metadata": {},
   "outputs": [],
   "source": [
    "from snomed_methods import snomed_methods_v1\n",
    "\n",
    "snomed_example = False\n",
    "\n",
    "if(snomed_example):\n",
    "\n",
    "    path_to_sct2 = path_to_snomed_ct_file\n",
    "\n",
    "    medcat_path = path_to_medcat_model_pack\n",
    "\n",
    "    snomed_relations_obj = snomed_methods_v1.snomed_relations(medcat=True, snomed_rf2_full_path=path_to_sct2,\n",
    "                                                            medcat_path = medcat_path)\n",
    "\n",
    "    outcome_variable_cui_for_filter = '109989006'  # myeloma\n",
    "\n",
    "    print(outcome_variable_cui_for_filter)\n",
    "\n",
    "    filter_root_cui = outcome_variable_cui_for_filter\n",
    "    print(filter_root_cui)\n",
    "\n",
    "    retrieved_codes_snomed_tree, retrieved_names_snomed_tree = snomed_relations_obj.recursive_code_expansion(filter_root_cui, n_recursion = 3, debug=False)\n",
    "\n",
    "    print(retrieved_codes_snomed_tree[0:5], len(retrieved_codes_snomed_tree), len(retrieved_names_snomed_tree))\n",
    "\n",
    "\n",
    "    retrieved_codes_medcat_cdb, retrieved_names_medcat_cdb = (\n",
    "    snomed_relations_obj.get_medcat_cdb_most_similar(\n",
    "        filter_root_cui, context_type=\"xxxlong\", type_id_filter=[], topn=50\n",
    "    )\n",
    "    )\n"
   ]
  },
  {
   "cell_type": "code",
   "execution_count": 7,
   "metadata": {},
   "outputs": [],
   "source": [
    "\n",
    "\n",
    "term_list = ['myeloma', ]"
   ]
  },
  {
   "cell_type": "code",
   "execution_count": null,
   "metadata": {},
   "outputs": [],
   "source": [
    "from pat2vec.util.pre_processing import get_treatment_docs_by_iterative_multi_term_cohort_searcher_no_terms_fuzzy\n",
    "\n",
    "\n",
    "treatment_docs = get_treatment_docs_by_iterative_multi_term_cohort_searcher_no_terms_fuzzy(pat2vec_obj=pat2vec_obj,\n",
    "                                                                          term_list=term_list,\n",
    "                                                                          overwrite=False,\n",
    "                                                                          append=False,\n",
    "                                                                          verbose=9,\n",
    "                                                                          mct=True, #\n",
    "                                                                          textual_obs=True,\n",
    "                                                                          additional_filters=None,\n",
    "                                                                          all_fields=False\n",
    "                                                                          )\n",
    "\n",
    "treatment_docs\n",
    "\n"
   ]
  },
  {
   "cell_type": "code",
   "execution_count": null,
   "metadata": {},
   "outputs": [],
   "source": [
    "pwd"
   ]
  },
  {
   "cell_type": "code",
   "execution_count": 10,
   "metadata": {},
   "outputs": [],
   "source": [
    "from pat2vec.util.config_pat2vec import config_class\n",
    "from datetime import datetime\n",
    "from tqdm import tqdm\n",
    "from pat2vec.util.post_processing import process_csv_files\n",
    "from pat2vec.util.post_processing import extract_datetime_to_column\n",
    "from pat2vec.pat2vec_pat_list.get_patient_treatment_list import get_all_patients_list\n",
    "from pat2vec.util.post_processing import produce_filtered_annotation_dataframe\n",
    "from dateutil.relativedelta import relativedelta\n",
    "import pandas as pd\n",
    "from typing import Dict, List, Optional, Union\n",
    "\n",
    "# Configuration dictionary for main options in a medical application\n",
    "main_options_dict = {\n",
    "    # Enable demographic information (Ethnicity mapped to UK census, age, death)\n",
    "    'demo': True,\n",
    "    'bmi': True,  # Enable BMI (Body Mass Index) tracking\n",
    "    'bloods': True,  # Enable blood-related information\n",
    "    'drugs': True,  # Enable drug-related information\n",
    "    'diagnostics': True,  # Enable diagnostic information\n",
    "\n",
    "    'core_02': True,  # Enable core_02 information\n",
    "    'bed': True,  # Enable bed n information\n",
    "    'vte_status': True,  # Enable VTE () status tracking\n",
    "    'hosp_site': True,  # Enable hospital site information\n",
    "    'core_resus': True,  # Enable core resuscitation information\n",
    "    'news': True,  # Enable NEWS (National Early Warning Score) tracking\n",
    "\n",
    "    'smoking': True,  # Enable smoking-related information\n",
    "    'annotations': True,  # Enable EPR annotations\n",
    "    # Enable MRC (Additional clinical note observations index) annotations\n",
    "    'annotations_mrc': True,\n",
    "    # Enable or disable negated presence annotations\n",
    "    'negated_presence_annotations': False,\n",
    "    'appointments': False,  # Enable appointments\n",
    "    'annotations_reports': False,  # Enable reports\n",
    "    'textual_obs': False,  # Enable textual observations (basic_observations index)\n",
    "}\n",
    "\n",
    "\n",
    "annot_filter_arguments = {\n",
    "    'acc': 0.8,  # base concept accuracy\n",
    "    # umls list of types for medcat filter\n",
    "    'types': ['qualifier value', 'procedure', 'substance', 'finding', 'environment', 'disorder', 'observable entity'],\n",
    "    # 'types': ['qualifier value', 'procedure', 'substance', 'finding', 'environment', 'disorder', 'observable entity', 'organism', 'phenomenon', 'anatomy', 'conceptual entity', 'physical object', 'intellectual product', 'occupation or discipline', 'mental or behavioral dysfunction', 'geographic area', 'population group', 'biomedical or dental material', 'medical device', 'classification', 'regulation or law', 'health care activity', 'health care related organization', 'professional or occupational group', 'group', 'attribute', 'individual behavior']\n",
    "    # Specify the values you want to include in a list. Must be defined in medcat model.\n",
    "    'Time_Value': ['Recent', 'Past'],\n",
    "    'Time_Confidence': 0.8,  # Specify the confidence threshold as a float\n",
    "    # Specify the values you want to include in a list\n",
    "    'Presence_Value': ['True'],\n",
    "    'Presence_Confidence': 0.8,  # Specify the confidence threshold as a float\n",
    "    # Specify the values you want to include in a list\n",
    "    'Subject_Value': ['Patient'],\n",
    "    'Subject_Confidence': 0.8  # Specify the confidence threshold as a float\n",
    "}\n",
    "\n",
    "# Filter data batches by terms before processing. \n",
    "\n",
    "epr_docs_term_regex: Optional[Union[str, None]] = None\n",
    "mct_docs_term_regex: Optional[Union[str, None]] = None\n",
    "\n",
    "# Example bloods_filter_term_list: Optional[Union[List[str], None]] = ['wbc']\n",
    "bloods_filter_term_list: Optional[Union[List[str], None]] = None\n",
    "\n",
    "# Example mct_docs_document_type_filter_list: Optional[Union[List[str], None]] = ['KHMDC Integrated report']\n",
    "\n",
    "mct_docs_document_type_filter_list: Optional[Union[List[str], None]] = None\n",
    "epr_docs_document_type_filter_list: Optional[Union[List[str], None]] = None\n",
    "\n",
    "data_type_filter_dict: Dict[str, any] = {\n",
    "    'filter_term_lists': {\n",
    "        'epr_docs': epr_docs_document_type_filter_list,\n",
    "        'mct_docs': mct_docs_document_type_filter_list,\n",
    "        'bloods': bloods_filter_term_list\n",
    "    },\n",
    "    'epr_docs_term_regex': epr_docs_term_regex,\n",
    "    'mct_docs_term_regex': mct_docs_term_regex,\n",
    "}\n",
    "\n",
    "\n",
    "#Example date settings:\n",
    "#start_date=(datetime(2020, 1, 1)) Start date for processing\n",
    "\n",
    "# Define the length of the time window, example 1 year and 15 days, only data within this window will be processed.\n",
    "# years=1,      # Number of years to add to the start date \n",
    "# months=0,  # Number of months to add to the start date\n",
    "# days=15,  # Number of days to add to the start date\n",
    "\n",
    "# Define the interval between time windows. Example 1 year. Each vector/row output will be based on this interval.\n",
    "# time_window_interval_delta = relativedelta(years=1)\n",
    "\n",
    "# lookback = True #This determines the direction of the time length window. True = backward, False = forward. Our time window (+1 years, 15 days) is therefore 2020, 1, 1 - 2021, 1, 15. \n",
    "\n",
    "# IPW settings:\n",
    "\n",
    "\n",
    "# Init config obj\n",
    "\n",
    "# Creating a configuration object for a specific task or project\n",
    "config_obj = config_class(\n",
    "    remote_dump=False,  # Flag for remote data dumping. partially deprecated.\n",
    "    suffix='',  # Suffix for file names\n",
    "    # Filename for treatment documentation\n",
    "    treatment_doc_filename='test_files/treatment_docs.csv',\n",
    "    treatment_control_ratio_n=1,  # Ratio for treatment to control\n",
    "    # Project name. patient data batches and vectors stored here.\n",
    "    proj_name='new_project',\n",
    "    current_path_dir=\"\",  # Current path directory\n",
    "    main_options=main_options_dict,  # Dictionary for main options\n",
    "    start_date=(datetime(2020, 1, 1)),  # Starting date for processing\n",
    "    # Number of years to add to the start date. Set the duration of the time window. Window is defined as the start date + years/months/days set here.\n",
    "    years=0,\n",
    "    months=0,  # Number of months to add to the start date\n",
    "    days=2,  # Number of days to add to the start date\n",
    "    # Flag for DGX, set true if in env, each env needs specific paths configured.\n",
    "    dgx=False,\n",
    "    dhcap=False,  # Flag for DHCap\n",
    "    dhcap02=True,  # Flag for DHCap02\n",
    "    batch_mode=True,  # Flag for batch processing mode. only functioning mode.\n",
    "    store_annot=True,  # Flag to store annotations. partially deprecated.\n",
    "    share_sftp=True,  # Flag for sharing via SFTP. partially deprecated\n",
    "    multi_process=False,  # Flag for multi-process execution. deprecated.\n",
    "    annot_first=False,  # Flag for annotation priority. deprecated.\n",
    "    # Flag for stripping lists, will check for completed patients before starting to avoid redundancy.\n",
    "    strip_list=True,\n",
    "    verbosity=0,  # Verbosity level 0-9 printing debug messages\n",
    "    random_seed_val=42,  # Random seed value for reproducibility of controls.\n",
    "    testing=True,  # Flag for testing mode\n",
    "    dummy_medcat_model=False,  # Flag for dummy MedCAT model, used if testing == True\n",
    "    # Flag for using controls. #will add desired ratio of controls at random from global pool.\n",
    "    use_controls=False,\n",
    "    # Flag for MedCAT processing. #will load medcat into memory and use for annotating.\n",
    "    medcat=True,\n",
    "    # Current timestamp as the start time for logging and progress bar\n",
    "    start_time=datetime.now(),\n",
    "    # Column name for patient ID, auto will try to find it. Example \"client_idcode\"\n",
    "    patient_id_column_name='auto',\n",
    "    annot_filter_options=annot_filter_arguments,  # Annotation filtering options\n",
    "    # Global start year. #set the limits of the time window data can be drawn from. Start should not precede start date set above.\n",
    "    global_start_year=1995, # Global dates are overwritten by individual patient windows to match patient window. # Ensure that global start year/month/day is before end year/month/day\n",
    "    global_start_month=1,  # Global start month\n",
    "    global_end_year=2023,  # Global end year\n",
    "    global_end_month=1, # Global end month\n",
    "    global_start_day = 1, \n",
    "    global_end_day = 1, \n",
    "    # individual_patient_window = True,\n",
    "    # individual_patient_window_df = pd.read_csv('ipw_overlap.csv'),\n",
    "    # individual_patient_window_start_column_name = 'updatetime_manual_offset',\n",
    "    # individual_patient_id_column_name = 'client_idcode',\n",
    "    # individual_patient_window_controls_method = 'full',\n",
    "    shuffle_pat_list=False,  # Flag for shuffling patient list\n",
    "    time_window_interval_delta = relativedelta(years=1), #specify the time window to collapse each feature vector into, years=1 is one vector per year within the global time window\n",
    "    split_clinical_notes=True, #will split clinical notes by date and treat as individual documents with extracted dates. Requires note splitter module. \n",
    "    lookback = True, # when calculating individual patient window from table of start dates, will calculate backwards in time if true. Else Forwards. When calculating from global start date, will calculate backwards or forwards respectively. \n",
    "    add_icd10 = False, #append icd 10 codes to annot batches. Can be found under current_pat_documents_annotations/%client_idcode%.csv.\n",
    "    add_opc4s=False, # needs icd10 true also. Can be found under current_pat_documents_annotations/%client_idcode%.csv\n",
    "    override_medcat_model_path = None, #Force medcat model path, if None uses defaults for env. #Can be set in paths.py with medcat_path = %path to medcat model pack.zip\"\n",
    "    data_type_filter_dict = None, # Dictionary for data type filter, see examples above. \n",
    "    filter_split_notes = True # If enabled, will reapply global time window filter post clinical note splitting. Recommended to enable if split notes enabled.\n",
    "    \n",
    ")"
   ]
  },
  {
   "cell_type": "code",
   "execution_count": null,
   "metadata": {},
   "outputs": [],
   "source": [
    "pwd"
   ]
  },
  {
   "cell_type": "code",
   "execution_count": 12,
   "metadata": {},
   "outputs": [],
   "source": [
    "#%pip install medcat"
   ]
  },
  {
   "cell_type": "code",
   "execution_count": 13,
   "metadata": {},
   "outputs": [],
   "source": [
    "from pat2vec.main_pat2vec import main"
   ]
  },
  {
   "cell_type": "code",
   "execution_count": null,
   "metadata": {},
   "outputs": [],
   "source": [
    "pat2vec_obj = main( cogstack=True, use_filter=False,\n",
    "             json_filter_path = None, random_seed_val=42, \n",
    "             hostname =None, config_obj= config_obj, )\n"
   ]
  },
  {
   "cell_type": "markdown",
   "metadata": {},
   "source": [
    "View patient list"
   ]
  },
  {
   "cell_type": "code",
   "execution_count": null,
   "metadata": {},
   "outputs": [],
   "source": [
    "pat2vec_obj.all_patient_list"
   ]
  },
  {
   "cell_type": "markdown",
   "metadata": {},
   "source": [
    "Make pat vectors for pat 0"
   ]
  },
  {
   "cell_type": "code",
   "execution_count": null,
   "metadata": {},
   "outputs": [],
   "source": [
    "pat2vec_obj.pat_maker(0)"
   ]
  },
  {
   "cell_type": "code",
   "execution_count": 17,
   "metadata": {},
   "outputs": [],
   "source": [
    "# Remove specific patient raw documents and annotations:\n",
    "from pat2vec.util.post_processing import remove_file_from_paths\n",
    "\n",
    "# remove_file_from_paths(pat2vec_obj.all_patient_list[i])"
   ]
  },
  {
   "cell_type": "code",
   "execution_count": null,
   "metadata": {},
   "outputs": [],
   "source": [
    "# Define the maximum number of retries\n",
    "MAX_RETRIES = 3\n",
    "\n",
    "# Iterate through the patient list starting from index 0\n",
    "for i in tqdm(range(0, len(pat2vec_obj.all_patient_list))):\n",
    "    retries = 0\n",
    "    success = False\n",
    "    \n",
    "    while retries < MAX_RETRIES and not success:\n",
    "        try:\n",
    "            # Try to process the patient\n",
    "            pat2vec_obj.pat_maker(i)\n",
    "            success = True  # Mark as successful if no exception is raised\n",
    "            \n",
    "        except KeyError as e:\n",
    "            # Handle specific exception\n",
    "            print(f\"KeyError at index {i}: {e}. Retrying after removal...\")\n",
    "            remove_file_from_paths(pat2vec_obj.all_patient_list[i])\n",
    "            retries += 1\n",
    "        \n",
    "        except Exception as e:\n",
    "            # Handle generic exceptions\n",
    "            print(f\"Exception at index {i}: {e}. Skipping this patient...\")\n",
    "            break  # Break the retry loop for non-retryable exceptions\n",
    "            \n",
    "        finally:\n",
    "            pat2vec_obj.t.update(1)  # Update progress\n",
    "\n",
    "    if not success:\n",
    "        print(f\"Failed to process index {i} after {MAX_RETRIES} retries.\")\n",
    "\n",
    "pat2vec_obj.t.close()"
   ]
  },
  {
   "cell_type": "code",
   "execution_count": null,
   "metadata": {},
   "outputs": [],
   "source": [
    "\n",
    "input_directory = f'{pat2vec_obj.proj_name}/current_pat_lines_parts'\n",
    "output_csv_file = 'output_file.csv'\n",
    "\n",
    "# Specify the directory where you want to create the file\n",
    "directory = pat2vec_obj.proj_name + '/output_directory'\n",
    "\n",
    "# Check if the directory exists, if not, create it\n",
    "if not os.path.exists(directory):\n",
    "    os.makedirs(directory)\n",
    "\n",
    "\n",
    "output_csv_file_filename = process_csv_files(input_directory, out_folder=directory, output_filename_suffix=output_csv_file, part_size=336)\n",
    "\n"
   ]
  },
  {
   "cell_type": "code",
   "execution_count": 20,
   "metadata": {},
   "outputs": [],
   "source": [
    "df = pd.read_csv(output_csv_file_filename)"
   ]
  },
  {
   "cell_type": "code",
   "execution_count": null,
   "metadata": {},
   "outputs": [],
   "source": [
    "df"
   ]
  },
  {
   "cell_type": "code",
   "execution_count": null,
   "metadata": {},
   "outputs": [],
   "source": [
    "\n",
    "extract_datetime_to_column(df)['extracted_datetime_stamp']"
   ]
  },
  {
   "cell_type": "code",
   "execution_count": null,
   "metadata": {},
   "outputs": [],
   "source": [
    "\n",
    "\n",
    "\n",
    "df = extract_datetime_to_column(df)"
   ]
  },
  {
   "cell_type": "markdown",
   "metadata": {},
   "source": [
    "#### Build all document batches dataframe:"
   ]
  },
  {
   "cell_type": "code",
   "execution_count": null,
   "metadata": {},
   "outputs": [],
   "source": [
    "\n",
    "from pat2vec.util.post_processing_build_methods import build_merged_epr_mct_doc_df\n",
    "\n",
    "all_pat_list = pat2vec_obj.all_patient_list\n",
    "\n",
    "dfd = build_merged_epr_mct_doc_df(all_pat_list, pat2vec_obj.config_obj, overwrite=True)\n",
    "\n",
    "dfd = pd.read_csv(dfd)"
   ]
  },
  {
   "cell_type": "markdown",
   "metadata": {},
   "source": [
    "### Build all annotation batches dataframe:"
   ]
  },
  {
   "cell_type": "code",
   "execution_count": null,
   "metadata": {},
   "outputs": [],
   "source": [
    "from pat2vec.util.post_processing_build_methods import build_merged_epr_mct_annot_df\n",
    "\n",
    "all_pat_list = pat2vec_obj.all_patient_list\n",
    "\n",
    "dfa = build_merged_epr_mct_annot_df(all_pat_list, pat2vec_obj.config_obj, overwrite=True)\n",
    "\n",
    "dfa = pd.read_csv(dfa)"
   ]
  },
  {
   "cell_type": "markdown",
   "metadata": {},
   "source": [
    "### Filter the annotation batches by a snomed cui and its related codes. "
   ]
  },
  {
   "cell_type": "code",
   "execution_count": null,
   "metadata": {},
   "outputs": [],
   "source": [
    "from snomed_methods import snomed_methods_v1\n",
    "\n",
    "path_to_sct2 = path_to_snomed_ct_file\n",
    "\n",
    "medcat_path = path_to_medcat_model_pack\n",
    "\n",
    "snomed_relations_obj = snomed_methods_v1.snomed_relations(medcat=True, snomed_rf2_full_path=path_to_sct2,\n",
    "                                                          medcat_path = medcat_path)\n",
    "\n",
    "outcome_variable_cui_for_filter = '40733004'  # infection\n",
    "\n",
    "print(outcome_variable_cui_for_filter)\n",
    "\n",
    "filter_root_cui = outcome_variable_cui_for_filter\n",
    "print(filter_root_cui)\n",
    "\n",
    "retrieved_codes_snomed_tree, retrieved_names_snomed_tree = snomed_relations_obj.recursive_code_expansion(filter_root_cui, n_recursion = 3, debug=False)\n",
    "\n",
    "print(retrieved_codes_snomed_tree[0:5], len(retrieved_codes_snomed_tree), len(retrieved_names_snomed_tree))\n",
    "\n",
    "\n",
    "\n"
   ]
  },
  {
   "cell_type": "code",
   "execution_count": null,
   "metadata": {},
   "outputs": [],
   "source": [
    "retrieved_names_snomed_tree[0:10]"
   ]
  },
  {
   "cell_type": "code",
   "execution_count": 28,
   "metadata": {},
   "outputs": [],
   "source": [
    "retrieved_codes_medcat_cdb, retrieved_names_medcat_cdb  = snomed_relations_obj.get_medcat_cdb_most_similar(filter_root_cui, context_type = 'xxxlong', type_id_filter=[], topn=25)"
   ]
  },
  {
   "cell_type": "code",
   "execution_count": null,
   "metadata": {},
   "outputs": [],
   "source": [
    "retrieved_names_medcat_cdb[0:10]"
   ]
  },
  {
   "cell_type": "code",
   "execution_count": 30,
   "metadata": {},
   "outputs": [],
   "source": [
    "all_names_list = list(set(retrieved_names_medcat_cdb + retrieved_names_snomed_tree))\n",
    "\n",
    "all_codes_list = list(set(retrieved_codes_medcat_cdb + retrieved_codes_snomed_tree))\n",
    "\n",
    "print(len(all_names_list))"
   ]
  },
  {
   "cell_type": "code",
   "execution_count": null,
   "metadata": {},
   "outputs": [],
   "source": []
  },
  {
   "cell_type": "markdown",
   "metadata": {},
   "source": [
    "# Apply misc methods "
   ]
  },
  {
   "cell_type": "code",
   "execution_count": null,
   "metadata": {},
   "outputs": [],
   "source": [
    "from pat2vec.all_methods import pat2vec_methods\n",
    "\n",
    "p2v = pat2vec_methods()\n",
    "\n",
    "#p2v.produce_filtered_annotation_dataframe()\n"
   ]
  },
  {
   "cell_type": "markdown",
   "metadata": {},
   "source": [
    "# Build IPW dataframe\n",
    "\n",
    "\n",
    "Find the latest/earliest record for one of [268910001, 62315008, 55822004, 49727002]"
   ]
  },
  {
   "cell_type": "code",
   "execution_count": null,
   "metadata": {},
   "outputs": [],
   "source": [
    "annot_filter_arguments = {\n",
    "    'acc': 0.8,  # base concept accuracy\n",
    "    # umls list of types for medcat filter\n",
    "    'types': ['qualifier value', 'procedure', 'substance', 'finding', 'environment', 'disorder', 'observable entity'],\n",
    "    # 'types': ['qualifier value', 'procedure', 'substance', 'finding', 'environment', 'disorder', 'observable entity', 'organism', 'phenomenon', 'anatomy', 'conceptual entity', 'physical object', 'intellectual product', 'occupation or discipline', 'mental or behavioral dysfunction', 'geographic area', 'population group', 'biomedical or dental material', 'medical device', 'classification', 'regulation or law', 'health care activity', 'health care related organization', 'professional or occupational group', 'group', 'attribute', 'individual behavior']\n",
    "    # Specify the values you want to include in a list. Must be defined in medcat model.\n",
    "    'Time_Value': ['Recent', 'Past'],\n",
    "    'Time_Confidence': 0.8,  # Specify the confidence threshold as a float\n",
    "    # Specify the values you want to include in a list\n",
    "    'Presence_Value': ['True'],\n",
    "    'Presence_Confidence': 0.8,  # Specify the confidence threshold as a float\n",
    "    # Specify the values you want to include in a list\n",
    "    'Subject_Value': ['Patient'],\n",
    "    'Subject_Confidence': 0.8  # Specify the confidence threshold as a float\n",
    "}"
   ]
  },
  {
   "cell_type": "code",
   "execution_count": null,
   "metadata": {},
   "outputs": [],
   "source": [
    "from pat2vec.util.post_processing import build_ipw_dataframe\n",
    "\n",
    "build_ipw_dataframe(annot_filter_arguments=annot_filter_arguments, config_obj=pat2vec_obj.config_obj, filter_codes=[268910001, 62315008, 55822004, 49727002], mode='latest') # '62315008', '55822004', '268910001',\n",
    "\n",
    "\n"
   ]
  },
  {
   "cell_type": "code",
   "execution_count": null,
   "metadata": {},
   "outputs": [],
   "source": [
    "from pat2vec.util.post_processing import build_ipw_dataframe\n",
    "\n",
    "build_ipw_dataframe(annot_filter_arguments=annot_filter_arguments, config_obj=pat2vec_obj.config_obj, filter_codes=[268910001, 62315008, 55822004, 49727002], mode='earliest') # '62315008', '55822004', '268910001',\n",
    "\n",
    "\n"
   ]
  },
  {
   "cell_type": "code",
   "execution_count": null,
   "metadata": {},
   "outputs": [],
   "source": [
    "# Examine and screen the patient client_idcode list for malformed entries \n",
    "\n",
    "from pat2vec.pat2vec_pat_list.get_patient_treatment_list import analyze_client_codes\n",
    "\n",
    "\n",
    "valid_codes, invalid_codes, clusters = analyze_client_codes(pat2vec_obj.all_patient_list)"
   ]
  }
 ],
 "metadata": {
  "kernelspec": {
   "display_name": "pat2vec_env",
   "language": "python",
   "name": "python3"
  },
  "language_info": {
   "codemirror_mode": {
    "name": "ipython",
    "version": 3
   },
   "file_extension": ".py",
   "mimetype": "text/x-python",
   "name": "python",
   "nbconvert_exporter": "python",
   "pygments_lexer": "ipython3",
   "version": "3.10.12"
  }
 },
 "nbformat": 4,
 "nbformat_minor": 2
}
