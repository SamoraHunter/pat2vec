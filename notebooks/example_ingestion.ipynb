{
 "cells": [
  {
   "cell_type": "code",
   "execution_count": null,
   "metadata": {},
   "outputs": [],
   "source": [
    "import sys\n",
    "import pandas as pd\n",
    "import numpy as np\n",
    "from tqdm import tqdm\n",
    "from pat2vec.util.elasticsearch_methods import ingest_data_to_elasticsearch\n"
   ]
  },
  {
   "cell_type": "code",
   "execution_count": null,
   "metadata": {},
   "outputs": [],
   "source": [
    "pat2vec_path = '../../'\n",
    "pat2vec_path2 = '../../pat2vec/'\n",
    "\n",
    "# Specify the path you want to add\n",
    "new_path = pat2vec_path\n",
    "\n",
    "# Add the path to sys.path\n",
    "if new_path not in sys.path:\n",
    "    sys.path.append(new_path)\n",
    "    sys.path.append(pat2vec_path2)\n",
    "\n",
    "# Verify that the path has been added\n",
    "print(sys.path)"
   ]
  },
  {
   "cell_type": "code",
   "execution_count": null,
   "metadata": {},
   "outputs": [],
   "source": [
    "\n",
    "# Example DataFrame creation\n",
    "data_in = pd.DataFrame({\n",
    "    \"id\": range(1, 101),  # 100 unique IDs\n",
    "    \"name\": [f\"Name_{i}\" for i in range(1, 101)],\n",
    "    \"value\": np.random.rand(100),  # Random float values\n",
    "    \"timestamp\": pd.date_range(start=\"2023-01-01\", periods=100, freq=\"D\")  # Dates\n",
    "})"
   ]
  },
  {
   "cell_type": "code",
   "execution_count": null,
   "metadata": {},
   "outputs": [],
   "source": [
    "# First ingestion with replace_index=True\n",
    "ingest_data_to_elasticsearch(temp_df=data_in.head(0), index_name=\"test_index_example\".lower(), index_mapping=None, replace_index=True)\n",
    "\n",
    "# Define a safe maximum number of cells per chunk\n",
    "max_cells = 100000  # Maximum cells that the system can safely handle\n",
    "\n",
    "# Number of columns\n",
    "num_columns = data_in.shape[1]\n",
    "\n",
    "# Calculate the largest chunk size (in rows) that avoids crashes\n",
    "chunk_size = max(1, int(max_cells / num_columns))  # Ensure at least 1 row per chunk\n",
    "\n",
    "# Calculate the total number of chunks\n",
    "n_chunks = int(np.ceil(data_in.shape[0] / chunk_size))\n",
    "\n",
    "# Print results\n",
    "print(f\"Data dimensions: {data_in.shape[0]} rows, {data_in.shape[1]} columns\")\n",
    "print(f\"Maximum safe cells per chunk: {max_cells}\")\n",
    "print(f\"Calculated chunk size: {chunk_size} rows per chunk\")\n",
    "print(f\"Total number of chunks: {n_chunks}\")\n",
    "\n",
    "# Splitting DataFrame into n chunks\n",
    "chunks = np.array_split(data_in, n_chunks)\n",
    "\n",
    "# Ingesting each chunk with replace_index=False\n",
    "for chunk in tqdm(chunks):\n",
    "    ingest_data_to_elasticsearch(temp_df=chunk, index_name=\"test_index_example\".lower(), index_mapping=None, replace_index=False)"
   ]
  }
 ],
 "metadata": {
  "kernelspec": {
   "display_name": "pat2vec_env",
   "language": "python",
   "name": "pat2vec_env"
  },
  "language_info": {
   "codemirror_mode": {
    "name": "ipython",
    "version": 3
   },
   "file_extension": ".py",
   "mimetype": "text/x-python",
   "name": "python",
   "nbconvert_exporter": "python",
   "pygments_lexer": "ipython3",
   "version": "3.10.12"
  }
 },
 "nbformat": 4,
 "nbformat_minor": 2
}
