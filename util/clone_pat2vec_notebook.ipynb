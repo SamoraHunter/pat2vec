{
 "cells": [
  {
   "cell_type": "markdown",
   "metadata": {},
   "source": [
    "## Warning will erase pat2vec directory"
   ]
  },
  {
   "cell_type": "code",
   "execution_count": null,
   "metadata": {},
   "outputs": [],
   "source": [
    "import shutil\n",
    "import subprocess\n",
    "destination_directory = \"pat2vec\"\n",
    "\n",
    "res = input(\"This script will remove everything inside pat2vec folder are you sure you want to continue? y/n\"):\n",
    "    \n",
    "if(res=='y'):\n",
    "    # Remove the existing directory and its contents\n",
    "    shutil.rmtree(destination_directory, ignore_errors=True)\n",
    "else:\n",
    "    print(\"aborted\")\n",
    "    break\n",
    "\n"
   ]
  },
  {
   "cell_type": "code",
   "execution_count": null,
   "metadata": {},
   "outputs": [],
   "source": [
    "import subprocess\n",
    "\n",
    "repo_url = \"https://github.com/SamoraHunter/pat2vec_time.git\"\n",
    "destination_directory = \"pat2vec\"\n",
    "\n",
    "# Set the GIT_SSL_NO_VERIFY environment variable to disable SSL certificate verification\n",
    "os.environ['GIT_SSL_NO_VERIFY'] = '1'\n",
    "\n",
    "# Run the git clone command\n",
    "subprocess.run([\"git\", \"clone\", repo_url, destination_directory], check=True)\n",
    "\n",
    "print(\"Repository cloned successfully.\")\n"
   ]
  }
 ],
 "metadata": {
  "language_info": {
   "name": "python"
  }
 },
 "nbformat": 4,
 "nbformat_minor": 2
}
