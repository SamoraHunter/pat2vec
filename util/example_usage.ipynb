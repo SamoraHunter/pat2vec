{
 "cells": [
  {
   "cell_type": "markdown",
   "metadata": {},
   "source": [
    "Ensure pat2vec is on path"
   ]
  },
  {
   "cell_type": "code",
   "execution_count": null,
   "metadata": {},
   "outputs": [],
   "source": [
    "pwd"
   ]
  },
  {
   "cell_type": "code",
   "execution_count": null,
   "metadata": {},
   "outputs": [],
   "source": [
    "import sys\n",
    "sys.path.insert(0,'/home/aliencat/samora/gloabl_files')\n",
    "sys.path.insert(0,'/data/AS/Samora/gloabl_files')\n",
    "sys.path.insert(0,'/home/jovyan/work/gloabl_files')\n",
    "sys.path.insert(0,'/home/cogstack/samora/_data/gloabl_files')"
   ]
  },
  {
   "cell_type": "code",
   "execution_count": null,
   "metadata": {},
   "outputs": [],
   "source": [
    "from pat2vec.util.config_pat2vec import config_class\n",
    "from datetime import datetime\n",
    "\n",
    "from post_processing import process_csv_files\n",
    "from post_processing import extract_datetime_to_column\n",
    "from pat2vec.pat2vec_pat_list.get_patient_treatment_list import get_all_patients_list\n",
    "from pat2vec.util.post_processing import produce_filtered_annotation_dataframe\n",
    "\n",
    "import pandas as pd\n",
    "\n",
    "# Configuration dictionary for main options in a medical application\n",
    "main_options_dict = {\n",
    "    'demo': True,  # Enable demographic information (Ethnicity mapped to UK census, age, death)\n",
    "    'bmi': True,  # Enable BMI (Body Mass Index) tracking\n",
    "    'bloods': True,  # Enable blood-related information\n",
    "    'drugs': True,  # Enable drug-related information\n",
    "    'diagnostics': True,  # Enable diagnostic information\n",
    "\n",
    "    'core_02': True,  # Enable core_02 information\n",
    "    'bed': True,  # Enable bed n information\n",
    "    'vte_status': True,  # Enable VTE () status tracking\n",
    "    'hosp_site': True,  # Enable hospital site information\n",
    "    'core_resus': True,  # Enable core resuscitation information\n",
    "    'news': True,  # Enable NEWS (National Early Warning Score) tracking\n",
    "\n",
    "    'smoking': True,  # Enable smoking-related information\n",
    "    'annotations': True,  # Enable EPR annotations\n",
    "    'annotations_mrc': True,  # Enable MRC (Additional clinical note observations index) annotations\n",
    "    'negated_presence_annotations': False  # Enable or disable negated presence annotations\n",
    "}\n",
    "\n",
    "\n",
    "annot_filter_arguments = {\n",
    "    'acc': 0.8, #base concept accuracy\n",
    "    'types': ['qualifier value', 'procedure', 'substance', 'finding', 'environment', 'disorder', 'observable entity'], #umls list of types for medcat filter\n",
    "    #'types': ['qualifier value', 'procedure', 'substance', 'finding', 'environment', 'disorder', 'observable entity', 'organism', 'phenomenon', 'anatomy', 'conceptual entity', 'physical object', 'intellectual product', 'occupation or discipline', 'mental or behavioral dysfunction', 'geographic area', 'population group', 'biomedical or dental material', 'medical device', 'classification', 'regulation or law', 'health care activity', 'health care related organization', 'professional or occupational group', 'group', 'attribute', 'individual behavior']\n",
    "    'Time_Value': ['Recent', 'Past'],  # Specify the values you want to include in a list. Must be defined in medcat model. \n",
    "    'Time_Confidence': 0.8,  # Specify the confidence threshold as a float\n",
    "    'Presence_Value': ['True'],  # Specify the values you want to include in a list\n",
    "    'Presence_Confidence': 0.8,  # Specify the confidence threshold as a float\n",
    "    'Subject_Value': ['Patient'],  # Specify the values you want to include in a list\n",
    "    'Subject_Confidence': 0.8  # Specify the confidence threshold as a float\n",
    "}\n",
    "\n",
    "## Init config obj\n",
    "from datetime import datetime\n",
    "\n",
    "# Creating a configuration object for a specific task or project\n",
    "config_obj = config_class(\n",
    "    remote_dump=False,  # Flag for remote data dumping. partially deprecated. \n",
    "    suffix='',  # Suffix for file names\n",
    "    treatment_doc_filename='treatment_docs.csv',  # Filename for treatment documentation\n",
    "    treatment_control_ratio_n=1,  # Ratio for treatment to control\n",
    "    proj_name='new_project',  # Project name. patient data batches and vectors stored here. \n",
    "    current_path_dir=\"\",  # Current path directory\n",
    "    main_options=main_options_dict,  # Dictionary for main options\n",
    "    start_date=(datetime(2020, 1, 1)),  # Starting date for processing\n",
    "    years=0,  # Number of years to add to the start date. Set the duration of the time window. Window is defined as the start date + years/months/days set here.\n",
    "    months=0,  # Number of months to add to the start date\n",
    "    days=2,  # Number of days to add to the start date\n",
    "    dgx=False,  # Flag for DGX, set true if in env, each env needs specific paths configured.\n",
    "    dhcap=False,  # Flag for DHCap\n",
    "    dhcap02=True,  # Flag for DHCap02\n",
    "    batch_mode=True,  # Flag for batch processing mode. only functioning mode. \n",
    "    store_annot=True,  # Flag to store annotations. partially deprecated.\n",
    "    share_sftp=True,  # Flag for sharing via SFTP. partially deprecated\n",
    "    multi_process=False,  # Flag for multi-process execution. deprecated.\n",
    "    annot_first=False,  # Flag for annotation priority. deprecated. \n",
    "    strip_list=True,  # Flag for stripping lists, will check for completed patients before starting to avoid redundancy.\n",
    "    verbosity=0,  # Verbosity level 0-9 printing debug messages\n",
    "    random_seed_val=42,  # Random seed value for reproducibility of controls. \n",
    "    testing=False,  # Flag for testing mode \n",
    "    use_controls=False,  # Flag for using controls. #will add desired ratio of controls at random from global pool. \n",
    "    medcat=True,  # Flag for MedCAT processing. #will load medcat into memory and use for annotating.\n",
    "    start_time=datetime.now(),  # Current timestamp as the start time for logging and progress bar\n",
    "    patient_id_column_name='auto',  # Column name for patient ID, auto will try to find it. Example \"client_idcode\"\n",
    "    annot_filter_options=annot_filter_arguments,  # Annotation filtering options\n",
    "    global_start_year=1995,  # Global start year. #set the limits of the time window data can be drawn from. Start should not precede start date set above.\n",
    "    global_start_month=1,  # Global start month\n",
    "    global_end_year=2023,  # Global end year\n",
    "    global_end_month=1,  # Global end month\n",
    "    shuffle_pat_list=False  # Flag for shuffling patient list\n",
    ")\n",
    "\n",
    "\n",
    "\n"
   ]
  },
  {
   "cell_type": "code",
   "execution_count": null,
   "metadata": {},
   "outputs": [],
   "source": [
    "from pat2vec.main_pat2vec import main"
   ]
  },
  {
   "cell_type": "code",
   "execution_count": null,
   "metadata": {},
   "outputs": [],
   "source": [
    "pat2vec_obj = main( cogstack=True, use_filter=False,\n",
    "             json_filter_path = None, random_seed_val=42, \n",
    "             hostname =None, config_obj= config_obj, )\n"
   ]
  },
  {
   "cell_type": "markdown",
   "metadata": {},
   "source": [
    "View patient list"
   ]
  },
  {
   "cell_type": "code",
   "execution_count": null,
   "metadata": {},
   "outputs": [],
   "source": [
    "pat2vec_obj.all_patient_list"
   ]
  },
  {
   "cell_type": "markdown",
   "metadata": {},
   "source": [
    "Make pat vectors for pat 0"
   ]
  },
  {
   "cell_type": "code",
   "execution_count": null,
   "metadata": {},
   "outputs": [],
   "source": [
    "pat2vec_obj.pat_maker(0)"
   ]
  },
  {
   "cell_type": "code",
   "execution_count": null,
   "metadata": {},
   "outputs": [],
   "source": [
    "\n",
    "input_directory = 'new_project/current_pat_lines_parts'\n",
    "output_csv_file = 'output_file.csv'\n",
    "\n",
    "\n",
    "process_csv_files(input_directory, out_folder='outputs', output_filename_suffix=output_csv_file, part_size=336)\n",
    "\n"
   ]
  },
  {
   "cell_type": "code",
   "execution_count": null,
   "metadata": {},
   "outputs": [],
   "source": [
    "df = pd.read_csv(output_csv_file)"
   ]
  },
  {
   "cell_type": "code",
   "execution_count": null,
   "metadata": {},
   "outputs": [],
   "source": [
    "df"
   ]
  },
  {
   "cell_type": "code",
   "execution_count": null,
   "metadata": {},
   "outputs": [],
   "source": [
    "\n",
    "\n",
    "\n",
    "df = extract_datetime_to_column(df)"
   ]
  },
  {
   "cell_type": "markdown",
   "metadata": {},
   "source": [
    "### Filter the annotation batches by a snomed cui and its related codes. "
   ]
  },
  {
   "cell_type": "code",
   "execution_count": null,
   "metadata": {},
   "outputs": [],
   "source": [
    "from snomed_methods import snomed_methods_v1\n",
    "snomed_relations_obj = snomed_methods_v1.snomed_relations(medcat=True)\n",
    "\n",
    "outcome_variable_cui_for_filter = '40733004'  # infection\n",
    "\n",
    "print(outcome_variable_cui_for_filter)\n",
    "\n",
    "filter_root_cui = outcome_variable_cui_for_filter\n",
    "print(filter_root_cui)\n",
    "\n",
    "retrieved_codes_snomed_tree, retrieved_names_snomed_tree = snomed_relations_obj.recursive_code_expansion(filter_root_cui, n_recursion = 3, debug=False)\n",
    "\n",
    "retrieved_codes_snomed_tree[0:5], len(retrieved_codes_snomed_tree), len(retrieved_names_snomed_tree)\n",
    "\n",
    "\n",
    "\n"
   ]
  },
  {
   "cell_type": "code",
   "execution_count": null,
   "metadata": {},
   "outputs": [],
   "source": [
    "retrieved_names_snomed_tree[0:10]"
   ]
  },
  {
   "cell_type": "code",
   "execution_count": null,
   "metadata": {},
   "outputs": [],
   "source": [
    "retrieved_codes_medcat_cdb, retrieved_names_medcat_cdb  = snomed_relations_obj.get_medcat_cdb_most_similar(filter_root_cui, context_type = 'xxxlong', type_id_filter=[], topn=25)"
   ]
  },
  {
   "cell_type": "code",
   "execution_count": null,
   "metadata": {},
   "outputs": [],
   "source": [
    "retrieved_names_medcat_cdb[0:10]"
   ]
  },
  {
   "cell_type": "code",
   "execution_count": null,
   "metadata": {},
   "outputs": [],
   "source": [
    "all_names_list = list(set(retrieved_names_medcat_cdb + retrieved_names_snomed_tree))\n",
    "\n",
    "all_codes_list = list(set(retrieved_codes_medcat_cdb + retrieved_codes_snomed_tree))\n",
    "\n",
    "print(len(all_names_list))"
   ]
  },
  {
   "cell_type": "code",
   "execution_count": null,
   "metadata": {},
   "outputs": [],
   "source": []
  },
  {
   "cell_type": "code",
   "execution_count": null,
   "metadata": {},
   "outputs": [],
   "source": [
    "\n",
    "\n",
    "all_pat_list_ = get_all_patients_list(config_obj=pat2vec_obj.config_obj)\n",
    "\n",
    "\n",
    "all_annot_filtered_df = produce_filtered_annotation_dataframe(cui_filter=True, meta_annot_filter=True, pat_list=all_pat_list_, config_obj=pat2vec_obj.config_obj, filter_custom_args=pat2vec_obj.config_obj.annot_filter_options, cui_code_list=all_codes_list)"
   ]
  },
  {
   "cell_type": "code",
   "execution_count": null,
   "metadata": {},
   "outputs": [],
   "source": [
    "all_annot_filtered_df"
   ]
  }
 ],
 "metadata": {
  "kernelspec": {
   "display_name": "base_env",
   "language": "python",
   "name": "base_env"
  },
  "language_info": {
   "codemirror_mode": {
    "name": "ipython",
    "version": 3
   },
   "file_extension": ".py",
   "mimetype": "text/x-python",
   "name": "python",
   "nbconvert_exporter": "python",
   "pygments_lexer": "ipython3",
   "version": "3.9.18"
  }
 },
 "nbformat": 4,
 "nbformat_minor": 2
}
