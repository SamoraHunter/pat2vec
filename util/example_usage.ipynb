{
 "cells": [
  {
   "cell_type": "markdown",
   "metadata": {},
   "source": [
    "Ensure pat2vec is on path"
   ]
  },
  {
   "cell_type": "code",
   "execution_count": null,
   "metadata": {},
   "outputs": [],
   "source": [
    "pwd"
   ]
  },
  {
   "cell_type": "code",
   "execution_count": null,
   "metadata": {},
   "outputs": [],
   "source": [
    "import sys\n",
    "sys.path.insert(0,'/home/aliencat/samora/gloabl_files')\n",
    "sys.path.insert(0,'/data/AS/Samora/gloabl_files')\n",
    "sys.path.insert(0,'/home/jovyan/work/gloabl_files')\n",
    "sys.path.insert(0,'/home/cogstack/samora/_data/gloabl_files')"
   ]
  },
  {
   "cell_type": "code",
   "execution_count": null,
   "metadata": {},
   "outputs": [],
   "source": [
    "from pat2vec.util.config_pat2vec import config_class\n",
    "from datetime import datetime\n",
    "\n",
    "from post_processing import process_csv_files\n",
    "from post_processing import extract_datetime_to_column\n",
    "from pat2vec.pat2vec_pat_list.get_patient_treatment_list import get_all_patients_list\n",
    "from pat2vec.util.post_processing import produce_filtered_annotation_dataframe\n",
    "\n",
    "import pandas as pd\n",
    "\n",
    "### Set options\n",
    "main_options_dict = {'demo':True,\n",
    "                'bmi':True,\n",
    "                'bloods':True,\n",
    "                'drugs':True,\n",
    "                'diagnostics':True,\n",
    "                \n",
    "                'core_02':True,\n",
    "                'bed':True,\n",
    "                'vte_status':True,\n",
    "                'hosp_site':True,\n",
    "                'core_resus':True,\n",
    "                'news':True,\n",
    "                \n",
    "                'smoking':True,\n",
    "                'annotations':True,\n",
    "                'annotations_mrc': True,\n",
    "                'negated_presence_annotations':False\n",
    "                \n",
    "               }\n",
    "\n",
    "annot_filter_arguments = {\n",
    "    'acc': 0.8,\n",
    "    'types': ['qualifier value', 'procedure', 'substance', 'finding', 'environment', 'disorder', 'observable entity'],\n",
    "    'Time_Value': ['Recent', 'Past'],  # Specify the values you want to include in a list\n",
    "    'Time_Confidence': 0.8,  # Specify the confidence threshold as a float\n",
    "    'Presence_Value': ['True'],  # Specify the values you want to include in a list\n",
    "    'Presence_Confidence': 0.8,  # Specify the confidence threshold as a float\n",
    "    'Subject_Value': ['Patient'],  # Specify the values you want to include in a list\n",
    "    'Subject_Confidence': 0.8  # Specify the confidence threshold as a float\n",
    "}\n",
    "\n",
    "## Init config obj\n",
    "config_obj = config_class(remote_dump=False,\n",
    "                 suffix='',\n",
    "                 treatment_doc_filename='treatment_docs.csv',\n",
    "                 treatment_control_ratio_n=1,\n",
    "                 proj_name='new_project',\n",
    "                 current_path_dir=\"\",\n",
    "                 main_options = main_options_dict,\n",
    "                 start_date = (datetime(2020, 1, 1)),\n",
    "                 years = 0,\n",
    "                 months = 0, \n",
    "                 days = 2,\n",
    "                 dgx = False, \n",
    "                 dhcap = False,\n",
    "                 dhcap02 = True,\n",
    "                 batch_mode= True,\n",
    "                 store_annot = True,\n",
    "                 share_sftp = True,\n",
    "                 multi_process = False,\n",
    "                 annot_first = False,\n",
    "                 strip_list = True,\n",
    "                 verbosity = 4,\n",
    "                 random_seed_val =42,\n",
    "                 testing = True,\n",
    "                 use_controls = False,\n",
    "                 medcat = True,\n",
    "                 start_time = datetime.now(),\n",
    "                 patient_id_column_name = 'auto',\n",
    "                 annot_filter_options = annot_filter_arguments,\n",
    "                 global_start_year = 1995, \n",
    "                 global_start_month = 1,\n",
    "                 global_end_year = 2023,\n",
    "                 global_end_month = 1,\n",
    "                 shuffle_pat_list = False\n",
    "                 \n",
    "                 )\n",
    "\n",
    "\n"
   ]
  },
  {
   "cell_type": "code",
   "execution_count": null,
   "metadata": {},
   "outputs": [],
   "source": [
    "from pat2vec.main_pat2vec import main"
   ]
  },
  {
   "cell_type": "code",
   "execution_count": null,
   "metadata": {},
   "outputs": [],
   "source": [
    "pat2vec_obj = main( cogstack=True, use_filter=False,\n",
    "             json_filter_path = None, random_seed_val=42, \n",
    "             hostname =None, config_obj= config_obj, )\n"
   ]
  },
  {
   "cell_type": "markdown",
   "metadata": {},
   "source": [
    "View patient list"
   ]
  },
  {
   "cell_type": "code",
   "execution_count": null,
   "metadata": {},
   "outputs": [],
   "source": [
    "pat2vec_obj.all_patient_list"
   ]
  },
  {
   "cell_type": "markdown",
   "metadata": {},
   "source": [
    "Make pat vectors for pat 0"
   ]
  },
  {
   "cell_type": "code",
   "execution_count": null,
   "metadata": {},
   "outputs": [],
   "source": [
    "pat2vec_obj.pat_maker(0)"
   ]
  },
  {
   "cell_type": "code",
   "execution_count": null,
   "metadata": {},
   "outputs": [],
   "source": [
    "\n",
    "input_directory = 'new_project/current_pat_lines_parts'\n",
    "output_csv_file = 'output_file.csv'\n",
    "\n",
    "\n",
    "process_csv_files(input_directory, out_folder='outputs', output_filename_suffix=output_csv_file, part_size=336)\n",
    "\n"
   ]
  },
  {
   "cell_type": "code",
   "execution_count": null,
   "metadata": {},
   "outputs": [],
   "source": [
    "df = pd.read_csv(output_csv_file)"
   ]
  },
  {
   "cell_type": "code",
   "execution_count": null,
   "metadata": {},
   "outputs": [],
   "source": [
    "df"
   ]
  },
  {
   "cell_type": "code",
   "execution_count": null,
   "metadata": {},
   "outputs": [],
   "source": [
    "\n",
    "\n",
    "\n",
    "df = extract_datetime_to_column(df)"
   ]
  },
  {
   "cell_type": "markdown",
   "metadata": {},
   "source": [
    "### Filter the annotation batches by a snomed cui and its related codes. "
   ]
  },
  {
   "cell_type": "code",
   "execution_count": null,
   "metadata": {},
   "outputs": [],
   "source": [
    "from snomed_methods import snomed_methods_v1\n",
    "snomed_relations_obj = snomed_methods_v1.snomed_relations(medcat=True)\n",
    "\n",
    "outcome_variable_cui_for_filter = '40733004'  # infection\n",
    "\n",
    "print(outcome_variable_cui_for_filter)\n",
    "\n",
    "filter_root_cui = outcome_variable_cui_for_filter\n",
    "print(filter_root_cui)\n",
    "\n",
    "retrieved_codes_snomed_tree, retrieved_names_snomed_tree = snomed_relations_obj.recursive_code_expansion(filter_root_cui, n_recursion = 3, debug=False)\n",
    "\n",
    "retrieved_codes_snomed_tree[0:5], len(retrieved_codes_snomed_tree), len(retrieved_names_snomed_tree)\n",
    "\n",
    "\n",
    "\n"
   ]
  },
  {
   "cell_type": "code",
   "execution_count": null,
   "metadata": {},
   "outputs": [],
   "source": [
    "retrieved_names_snomed_tree[0:10]"
   ]
  },
  {
   "cell_type": "code",
   "execution_count": null,
   "metadata": {},
   "outputs": [],
   "source": [
    "retrieved_codes_medcat_cdb, retrieved_names_medcat_cdb  = snomed_relations_obj.get_medcat_cdb_most_similar(filter_root_cui, context_type = 'xxxlong', type_id_filter=[], topn=25)"
   ]
  },
  {
   "cell_type": "code",
   "execution_count": null,
   "metadata": {},
   "outputs": [],
   "source": [
    "retrieved_names_medcat_cdb[0:10]"
   ]
  },
  {
   "cell_type": "code",
   "execution_count": null,
   "metadata": {},
   "outputs": [],
   "source": [
    "all_names_list = list(set(retrieved_names_medcat_cdb + retrieved_names_snomed_tree))\n",
    "\n",
    "all_codes_list = list(set(retrieved_codes_medcat_cdb + retrieved_codes_snomed_tree))\n",
    "\n",
    "print(len(all_names_list))"
   ]
  },
  {
   "cell_type": "code",
   "execution_count": null,
   "metadata": {},
   "outputs": [],
   "source": []
  },
  {
   "cell_type": "code",
   "execution_count": null,
   "metadata": {},
   "outputs": [],
   "source": [
    "\n",
    "\n",
    "all_pat_list_ = get_all_patients_list(config_obj=pat2vec_obj.config_obj)\n",
    "\n",
    "\n",
    "all_annot_filtered_df = produce_filtered_annotation_dataframe(cui_filter=True, meta_annot_filter=True, pat_list=all_pat_list_, config_obj=pat2vec_obj.config_obj, filter_custom_args=pat2vec_obj.config_obj.annot_filter_options, cui_code_list=all_codes_list)"
   ]
  },
  {
   "cell_type": "code",
   "execution_count": null,
   "metadata": {},
   "outputs": [],
   "source": [
    "all_annot_filtered_df"
   ]
  }
 ],
 "metadata": {
  "kernelspec": {
   "display_name": "base_env",
   "language": "python",
   "name": "base_env"
  },
  "language_info": {
   "codemirror_mode": {
    "name": "ipython",
    "version": 3
   },
   "file_extension": ".py",
   "mimetype": "text/x-python",
   "name": "python",
   "nbconvert_exporter": "python",
   "pygments_lexer": "ipython3",
   "version": "3.9.18"
  }
 },
 "nbformat": 4,
 "nbformat_minor": 2
}
