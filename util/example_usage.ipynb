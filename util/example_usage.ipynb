{
 "cells": [
  {
   "cell_type": "markdown",
   "metadata": {},
   "source": [
    "Ensure pat2vec is on path"
   ]
  },
  {
   "cell_type": "code",
   "execution_count": null,
   "metadata": {},
   "outputs": [],
   "source": [
    "import sys\n",
    "sys.path.insert(0,'/home/aliencat/samora/gloabl_files')\n",
    "sys.path.insert(0,'/data/AS/Samora/gloabl_files')\n",
    "sys.path.insert(0,'/home/jovyan/work/gloabl_files')\n",
    "sys.path.insert(0,'/home/cogstack/samora/_data/gloabl_files')"
   ]
  },
  {
   "cell_type": "code",
   "execution_count": null,
   "metadata": {},
   "outputs": [],
   "source": [
    "from pat2vec.util.config_pat2vec import config_class\n",
    "from datetime import datetime\n",
    "### Set options\n",
    "main_options_dict = {'demo':True,\n",
    "                'bmi':True,\n",
    "                'bloods':True,\n",
    "                'drugs':True,\n",
    "                'diagnostics':True,\n",
    "                \n",
    "                'core_02':True,\n",
    "                'bed':True,\n",
    "                'vte_status':True,\n",
    "                'hosp_site':True,\n",
    "                'core_resus':True,\n",
    "                'news':True,\n",
    "                \n",
    "                'smoking':True,\n",
    "                'annotations':True,\n",
    "                'annotations_mrc': True,\n",
    "                'negated_presence_annotations':False\n",
    "                \n",
    "               }\n",
    "\n",
    "## Init config obj\n",
    "config_obj = config_class(remote_dump=False,\n",
    "                 suffix='',\n",
    "                 treatment_doc_filename='treatment_docs.csv',\n",
    "                 treatment_control_ratio_n=1,\n",
    "                 proj_name='new_project',\n",
    "                 current_path_dir=\"\",\n",
    "                 main_options = main_options_dict,\n",
    "                 start_date = (datetime(2020, 1, 1)),\n",
    "                 years = 0,\n",
    "                 months = 0, \n",
    "                 days = 1,\n",
    "                 dgx = False, \n",
    "                 dhcap = False,\n",
    "                 dhcap02 = True,\n",
    "                 batch_mode= True,\n",
    "                 store_annot = True,\n",
    "                 share_sftp = True,\n",
    "                 multi_process = False,\n",
    "                 annot_first = False,\n",
    "                 strip_list = True,\n",
    "                 verbosity = 4,\n",
    "                 random_seed_val =42,\n",
    "                 testing = True,\n",
    "                 use_controls = False,\n",
    "                 medcat = True,\n",
    "                 start_time = None,\n",
    "                 patient_id_column_name = 'auto'\n",
    "                 \n",
    "                 )\n",
    "\n",
    "\n"
   ]
  },
  {
   "cell_type": "code",
   "execution_count": null,
   "metadata": {},
   "outputs": [],
   "source": [
    "from pat2vec.main_pat2vec import main"
   ]
  },
  {
   "cell_type": "code",
   "execution_count": null,
   "metadata": {},
   "outputs": [],
   "source": [
    "pat2vec_obj = main( cogstack=True, use_filter=False,\n",
    "             json_filter_path = None, random_seed_val=42, \n",
    "             hostname =None, config_obj= config_obj, )\n"
   ]
  },
  {
   "cell_type": "markdown",
   "metadata": {},
   "source": [
    "View patient list"
   ]
  },
  {
   "cell_type": "code",
   "execution_count": null,
   "metadata": {},
   "outputs": [],
   "source": [
    "pat2vec_obj.all_patient_list"
   ]
  },
  {
   "cell_type": "markdown",
   "metadata": {},
   "source": [
    "Make pat vectors for pat 0"
   ]
  },
  {
   "cell_type": "code",
   "execution_count": null,
   "metadata": {},
   "outputs": [],
   "source": [
    "pat2vec_obj.pat_maker(0)"
   ]
  },
  {
   "cell_type": "code",
   "execution_count": null,
   "metadata": {},
   "outputs": [],
   "source": []
  }
 ],
 "metadata": {
  "kernelspec": {
   "display_name": "base_env",
   "language": "python",
   "name": "base_env"
  },
  "language_info": {
   "codemirror_mode": {
    "name": "ipython",
    "version": 3
   },
   "file_extension": ".py",
   "mimetype": "text/x-python",
   "name": "python",
   "nbconvert_exporter": "python",
   "pygments_lexer": "ipython3",
   "version": "3.9.18"
  }
 },
 "nbformat": 4,
 "nbformat_minor": 2
}
