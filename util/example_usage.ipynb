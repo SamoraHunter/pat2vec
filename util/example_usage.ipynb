{
 "cells": [
  {
   "cell_type": "markdown",
   "metadata": {},
   "source": [
    "Ensure pat2vec is on path"
   ]
  },
  {
   "cell_type": "code",
   "execution_count": 1,
   "metadata": {},
   "outputs": [
    {
     "data": {
      "text/plain": [
       "'c:\\\\Users\\\\admin\\\\Documents\\\\projects\\\\pat2vec_time\\\\util'"
      ]
     },
     "execution_count": 1,
     "metadata": {},
     "output_type": "execute_result"
    }
   ],
   "source": [
    "pwd"
   ]
  },
  {
   "cell_type": "code",
   "execution_count": 2,
   "metadata": {},
   "outputs": [],
   "source": [
    "import sys\n",
    "sys.path.insert(0,'/home/aliencat/samora/gloabl_files')\n",
    "sys.path.insert(0,'/data/AS/Samora/gloabl_files')\n",
    "sys.path.insert(0,'/home/jovyan/work/gloabl_files')\n",
    "sys.path.insert(0,'/home/cogstack/samora/_data/gloabl_files')\n",
    "\n",
    "import sys\n",
    "sys.path.append('c:\\\\Users\\\\admin\\\\Documents\\\\projects\\\\pat2vec_time\\\\')\n"
   ]
  },
  {
   "cell_type": "code",
   "execution_count": 3,
   "metadata": {},
   "outputs": [
    {
     "name": "stdout",
     "output_type": "stream",
     "text": [
      "c:\\Users\\admin\\Documents\\projects\\pat2vec_time\\util/new_project/current_pat_annots_parts/\n",
      "c:\\Users\\admin\\Documents\\projects\\pat2vec_time\\util/new_project/current_pat_annots_mrc_parts/\n",
      "c:\\Users\\admin\\Documents\\projects\\pat2vec_time\\util/new_project/current_pat_document_batches/\n",
      "c:\\Users\\admin\\Documents\\projects\\pat2vec_time\\util/new_project/current_pat_document_batches_mct/\n",
      "c:\\Users\\admin\\Documents\\projects\\pat2vec_time\\util/new_project/current_pat_documents_annotations_batches/\n",
      "c:\\Users\\admin\\Documents\\projects\\pat2vec_time\\util/new_project/current_pat_documents_annotations_batches_mct/\n",
      "c:\\Users\\admin\\Documents\\projects\\pat2vec_time\\util/new_project/outputs\n",
      "c:\\Users\\admin\\Documents\\projects\\pat2vec_time\\util/new_project/current_pat_lines_parts/\n",
      "Setting start_date to: 2020-01-01 00:00:00\n",
      "Setting years to: 0\n",
      "Setting months to: 0\n",
      "Setting days to: 2\n",
      "Number of 1-day intervals between 2020-01-01 00:00:00 and the calculated end date: 2\n",
      "Warning: Updated global start date as start date later than global start date.\n"
     ]
    }
   ],
   "source": [
    "from util.config_pat2vec import config_class\n",
    "from datetime import datetime\n",
    "\n",
    "from post_processing import process_csv_files\n",
    "from post_processing import extract_datetime_to_column\n",
    "from pat2vec_pat_list.get_patient_treatment_list import get_all_patients_list\n",
    "from util.post_processing import produce_filtered_annotation_dataframe\n",
    "\n",
    "import pandas as pd\n",
    "\n",
    "# Configuration dictionary for main options in a medical application\n",
    "main_options_dict = {\n",
    "    # Enable demographic information (Ethnicity mapped to UK census, age, death)\n",
    "    'demo': True,\n",
    "    'bmi': True,  # Enable BMI (Body Mass Index) tracking\n",
    "    'bloods': True,  # Enable blood-related information\n",
    "    'drugs': True,  # Enable drug-related information\n",
    "    'diagnostics': True,  # Enable diagnostic information\n",
    "\n",
    "    'core_02': True,  # Enable core_02 information\n",
    "    'bed': True,  # Enable bed n information\n",
    "    'vte_status': True,  # Enable VTE () status tracking\n",
    "    'hosp_site': True,  # Enable hospital site information\n",
    "    'core_resus': True,  # Enable core resuscitation information\n",
    "    'news': True,  # Enable NEWS (National Early Warning Score) tracking\n",
    "\n",
    "    'smoking': True,  # Enable smoking-related information\n",
    "    'annotations': True,  # Enable EPR annotations\n",
    "    # Enable MRC (Additional clinical note observations index) annotations\n",
    "    'annotations_mrc': True,\n",
    "    # Enable or disable negated presence annotations\n",
    "    'negated_presence_annotations': False\n",
    "}\n",
    "\n",
    "\n",
    "annot_filter_arguments = {\n",
    "    'acc': 0.8,  # base concept accuracy\n",
    "    # umls list of types for medcat filter\n",
    "    'types': ['qualifier value', 'procedure', 'substance', 'finding', 'environment', 'disorder', 'observable entity'],\n",
    "    # 'types': ['qualifier value', 'procedure', 'substance', 'finding', 'environment', 'disorder', 'observable entity', 'organism', 'phenomenon', 'anatomy', 'conceptual entity', 'physical object', 'intellectual product', 'occupation or discipline', 'mental or behavioral dysfunction', 'geographic area', 'population group', 'biomedical or dental material', 'medical device', 'classification', 'regulation or law', 'health care activity', 'health care related organization', 'professional or occupational group', 'group', 'attribute', 'individual behavior']\n",
    "    # Specify the values you want to include in a list. Must be defined in medcat model.\n",
    "    'Time_Value': ['Recent', 'Past'],\n",
    "    'Time_Confidence': 0.8,  # Specify the confidence threshold as a float\n",
    "    # Specify the values you want to include in a list\n",
    "    'Presence_Value': ['True'],\n",
    "    'Presence_Confidence': 0.8,  # Specify the confidence threshold as a float\n",
    "    # Specify the values you want to include in a list\n",
    "    'Subject_Value': ['Patient'],\n",
    "    'Subject_Confidence': 0.8  # Specify the confidence threshold as a float\n",
    "}\n",
    "\n",
    "# Init config obj\n",
    "\n",
    "# Creating a configuration object for a specific task or project\n",
    "config_obj = config_class(\n",
    "    remote_dump=False,  # Flag for remote data dumping. partially deprecated.\n",
    "    suffix='',  # Suffix for file names\n",
    "    # Filename for treatment documentation\n",
    "    treatment_doc_filename='test_files/treatment_docs.csv',\n",
    "    treatment_control_ratio_n=1,  # Ratio for treatment to control\n",
    "    # Project name. patient data batches and vectors stored here.\n",
    "    proj_name='new_project',\n",
    "    current_path_dir=\"\",  # Current path directory\n",
    "    main_options=main_options_dict,  # Dictionary for main options\n",
    "    start_date=(datetime(2020, 1, 1)),  # Starting date for processing\n",
    "    # Number of years to add to the start date. Set the duration of the time window. Window is defined as the start date + years/months/days set here.\n",
    "    years=0,\n",
    "    months=0,  # Number of months to add to the start date\n",
    "    days=2,  # Number of days to add to the start date\n",
    "    # Flag for DGX, set true if in env, each env needs specific paths configured.\n",
    "    dgx=False,\n",
    "    dhcap=False,  # Flag for DHCap\n",
    "    dhcap02=True,  # Flag for DHCap02\n",
    "    batch_mode=True,  # Flag for batch processing mode. only functioning mode.\n",
    "    store_annot=True,  # Flag to store annotations. partially deprecated.\n",
    "    share_sftp=True,  # Flag for sharing via SFTP. partially deprecated\n",
    "    multi_process=False,  # Flag for multi-process execution. deprecated.\n",
    "    annot_first=False,  # Flag for annotation priority. deprecated.\n",
    "    # Flag for stripping lists, will check for completed patients before starting to avoid redundancy.\n",
    "    strip_list=True,\n",
    "    verbosity=0,  # Verbosity level 0-9 printing debug messages\n",
    "    random_seed_val=42,  # Random seed value for reproducibility of controls.\n",
    "    testing=False,  # Flag for testing mode\n",
    "    # Flag for using controls. #will add desired ratio of controls at random from global pool.\n",
    "    use_controls=False,\n",
    "    # Flag for MedCAT processing. #will load medcat into memory and use for annotating.\n",
    "    medcat=True,\n",
    "    # Current timestamp as the start time for logging and progress bar\n",
    "    start_time=datetime.now(),\n",
    "    # Column name for patient ID, auto will try to find it. Example \"client_idcode\"\n",
    "    patient_id_column_name='auto',\n",
    "    annot_filter_options=annot_filter_arguments,  # Annotation filtering options\n",
    "    # Global start year. #set the limits of the time window data can be drawn from. Start should not precede start date set above.\n",
    "    global_start_year=1995,\n",
    "    global_start_month=1,  # Global start month\n",
    "    global_end_year=2023,  # Global end year\n",
    "    global_end_month=1,  # Global end month\n",
    "    shuffle_pat_list=False  # Flag for shuffling patient list\n",
    ")"
   ]
  },
  {
   "cell_type": "code",
   "execution_count": 4,
   "metadata": {},
   "outputs": [],
   "source": [
    "#%pip install medcat"
   ]
  },
  {
   "cell_type": "code",
   "execution_count": 5,
   "metadata": {},
   "outputs": [
    {
     "name": "stderr",
     "output_type": "stream",
     "text": [
      "c:\\Users\\admin\\Documents\\projects\\pat2vec_time\\.venv\\lib\\site-packages\\medcat\\cat.py:18: TqdmExperimentalWarning: Using `tqdm.autonotebook.tqdm` in notebook mode. Use `tqdm.tqdm` instead to force console mode (e.g. in jupyter console)\n",
      "  from tqdm.autonotebook import tqdm, trange\n"
     ]
    },
    {
     "name": "stdout",
     "output_type": "stream",
     "text": [
      "refreshed\n",
      "refreshed\n",
      "******Watcher connected to ES Cluster!******\n",
      "\n",
      "Cogstack toolbox functions:\n",
      "cohort_searcher_with_terms_and_search(index_name, fields_list, term_name, entered_list, search_string) = Search with terms and search string\n",
      "cohort_searcher_with_terms_no_search(index_name, fields_list, term_name, entered_list) = Search with terms only\n",
      "cohort_searcher_no_terms(index_name, fields_list, search_string) = Search with search string only\n",
      "matcher(data_template_df, lab_results_df, source_patid_colname, source_date_colname, result_date_colname, result_testname, result_resultname, before, after) = match template with dataset\n",
      "**NOTE: matcher throws up an error if dates are not converted to datetime**\n",
      "stringlist2searchlist(string_list, output_name) = convert a list of strings to a lucene search string\n",
      "pylist2searchlist(list_name, output_name) = convert a list of strings to a python list\n",
      "stringlist2pylist(string_list, var_name) = convert a python list to a lucene search string\n",
      "date_cleaner(dfs, cols, date_format) = specify the df(s) and columns to convert them to the correct datatype\n",
      "bulk_str_extract(target_colname_regex_pairs, source_colname, df_name) = target_colname_regex_pairs = {\"col_title\":r'regex_string'}\n",
      "bulk_str_findall(target_colname_regex_pairs, source_colname, df_name)\n",
      "demo_columns = \"client_idcode\", \"client_firstname\", \"client_lastname\", \"client_dob\", \"client_gendercode\", \"client_racecode\", \"client_deceaseddtm\", \"updatetime\"\n",
      "\n",
      "******Watcher connected to ES Cluster!******\n"
     ]
    }
   ],
   "source": [
    "from main_pat2vec import main"
   ]
  },
  {
   "cell_type": "code",
   "execution_count": 6,
   "metadata": {},
   "outputs": [
    {
     "ename": "FileNotFoundError",
     "evalue": "[Errno 2] No such file or directory: 'treatment_docs.csv'",
     "output_type": "error",
     "traceback": [
      "\u001b[1;31m---------------------------------------------------------------------------\u001b[0m",
      "\u001b[1;31mFileNotFoundError\u001b[0m                         Traceback (most recent call last)",
      "\u001b[1;32mc:\\Users\\admin\\Documents\\projects\\pat2vec_time\\util\\example_usage.ipynb Cell 7\u001b[0m line \u001b[0;36m1\n\u001b[1;32m----> <a href='vscode-notebook-cell:/c%3A/Users/admin/Documents/projects/pat2vec_time/util/example_usage.ipynb#W5sZmlsZQ%3D%3D?line=0'>1</a>\u001b[0m pat2vec_obj \u001b[39m=\u001b[39m main( cogstack\u001b[39m=\u001b[39;49m\u001b[39mTrue\u001b[39;49;00m, use_filter\u001b[39m=\u001b[39;49m\u001b[39mFalse\u001b[39;49;00m,\n\u001b[0;32m      <a href='vscode-notebook-cell:/c%3A/Users/admin/Documents/projects/pat2vec_time/util/example_usage.ipynb#W5sZmlsZQ%3D%3D?line=1'>2</a>\u001b[0m              json_filter_path \u001b[39m=\u001b[39;49m \u001b[39mNone\u001b[39;49;00m, random_seed_val\u001b[39m=\u001b[39;49m\u001b[39m42\u001b[39;49m, \n\u001b[0;32m      <a href='vscode-notebook-cell:/c%3A/Users/admin/Documents/projects/pat2vec_time/util/example_usage.ipynb#W5sZmlsZQ%3D%3D?line=2'>3</a>\u001b[0m              hostname \u001b[39m=\u001b[39;49m\u001b[39mNone\u001b[39;49;00m, config_obj\u001b[39m=\u001b[39;49m config_obj, )\n",
      "File \u001b[1;32mc:\\Users\\admin\\Documents\\projects\\pat2vec_time\\main_pat2vec.py:120\u001b[0m, in \u001b[0;36mmain.__init__\u001b[1;34m(self, cogstack, use_filter, json_filter_path, random_seed_val, hostname, config_obj)\u001b[0m\n\u001b[0;32m    117\u001b[0m \u001b[39mself\u001b[39m\u001b[39m.\u001b[39mproj_name \u001b[39m=\u001b[39m config_obj\u001b[39m.\u001b[39mproj_name\n\u001b[0;32m    118\u001b[0m \u001b[39mself\u001b[39m\u001b[39m.\u001b[39mgpu_mem_threshold \u001b[39m=\u001b[39m config_obj\u001b[39m.\u001b[39mgpu_mem_threshold\n\u001b[1;32m--> 120\u001b[0m \u001b[39mself\u001b[39m\u001b[39m.\u001b[39mall_patient_list \u001b[39m=\u001b[39m get_all_patients_list(\u001b[39mself\u001b[39;49m\u001b[39m.\u001b[39;49mconfig_obj)\n\u001b[0;32m    122\u001b[0m create_folders(\u001b[39mself\u001b[39m\u001b[39m.\u001b[39mall_patient_list, \u001b[39mself\u001b[39m\u001b[39m.\u001b[39mconfig_obj)\n\u001b[0;32m    124\u001b[0m \u001b[39mself\u001b[39m\u001b[39m.\u001b[39mcurrent_pat_line_path \u001b[39m=\u001b[39m config_obj\u001b[39m.\u001b[39mcurrent_pat_line_path\n",
      "File \u001b[1;32mc:\\Users\\admin\\Documents\\projects\\pat2vec_time\\pat2vec_pat_list\\get_patient_treatment_list.py:126\u001b[0m, in \u001b[0;36mget_all_patients_list\u001b[1;34m(config_obj)\u001b[0m\n\u001b[0;32m    116\u001b[0m \u001b[39mdef\u001b[39;00m \u001b[39mget_all_patients_list\u001b[39m(config_obj):\n\u001b[0;32m    117\u001b[0m \u001b[39m    \u001b[39m\u001b[39m\"\"\"\u001b[39;00m\n\u001b[0;32m    118\u001b[0m \u001b[39m    Extracts a list of all patient IDs from the given configuration object.\u001b[39;00m\n\u001b[0;32m    119\u001b[0m \u001b[39m    \u001b[39;00m\n\u001b[1;32m   (...)\u001b[0m\n\u001b[0;32m    124\u001b[0m \u001b[39m        A list of all patient IDs.\u001b[39;00m\n\u001b[0;32m    125\u001b[0m \u001b[39m    \"\"\"\u001b[39;00m\n\u001b[1;32m--> 126\u001b[0m     patient_ids \u001b[39m=\u001b[39m extract_treatment_id_list_from_docs(config_obj)\n\u001b[0;32m    128\u001b[0m     all_patient_list \u001b[39m=\u001b[39m patient_ids\u001b[39m.\u001b[39mcopy()\n\u001b[0;32m    130\u001b[0m     all_patient_list \u001b[39m=\u001b[39m pd\u001b[39m.\u001b[39mSeries(all_patient_list)\u001b[39m.\u001b[39mdropna()\u001b[39m.\u001b[39mto_list()\n",
      "File \u001b[1;32mc:\\Users\\admin\\Documents\\projects\\pat2vec_time\\pat2vec_pat_list\\get_patient_treatment_list.py:38\u001b[0m, in \u001b[0;36mextract_treatment_id_list_from_docs\u001b[1;34m(config_obj)\u001b[0m\n\u001b[0;32m     36\u001b[0m \u001b[39m# Read the treatment document into a pandas DataFrame based on the file format\u001b[39;00m\n\u001b[0;32m     37\u001b[0m \u001b[39mif\u001b[39;00m file_extension \u001b[39m==\u001b[39m \u001b[39m'\u001b[39m\u001b[39mcsv\u001b[39m\u001b[39m'\u001b[39m:\n\u001b[1;32m---> 38\u001b[0m     docs \u001b[39m=\u001b[39m pd\u001b[39m.\u001b[39;49mread_csv(treatment_doc_filename)\n\u001b[0;32m     39\u001b[0m \u001b[39melif\u001b[39;00m file_extension \u001b[39min\u001b[39;00m [\u001b[39m'\u001b[39m\u001b[39mxlsx\u001b[39m\u001b[39m'\u001b[39m, \u001b[39m'\u001b[39m\u001b[39mxls\u001b[39m\u001b[39m'\u001b[39m]:\n\u001b[0;32m     40\u001b[0m     docs \u001b[39m=\u001b[39m pd\u001b[39m.\u001b[39mread_excel(treatment_doc_filename)\n",
      "File \u001b[1;32mc:\\Users\\admin\\Documents\\projects\\pat2vec_time\\.venv\\lib\\site-packages\\pandas\\util\\_decorators.py:211\u001b[0m, in \u001b[0;36mdeprecate_kwarg.<locals>._deprecate_kwarg.<locals>.wrapper\u001b[1;34m(*args, **kwargs)\u001b[0m\n\u001b[0;32m    209\u001b[0m     \u001b[39melse\u001b[39;00m:\n\u001b[0;32m    210\u001b[0m         kwargs[new_arg_name] \u001b[39m=\u001b[39m new_arg_value\n\u001b[1;32m--> 211\u001b[0m \u001b[39mreturn\u001b[39;00m func(\u001b[39m*\u001b[39margs, \u001b[39m*\u001b[39m\u001b[39m*\u001b[39mkwargs)\n",
      "File \u001b[1;32mc:\\Users\\admin\\Documents\\projects\\pat2vec_time\\.venv\\lib\\site-packages\\pandas\\util\\_decorators.py:331\u001b[0m, in \u001b[0;36mdeprecate_nonkeyword_arguments.<locals>.decorate.<locals>.wrapper\u001b[1;34m(*args, **kwargs)\u001b[0m\n\u001b[0;32m    325\u001b[0m \u001b[39mif\u001b[39;00m \u001b[39mlen\u001b[39m(args) \u001b[39m>\u001b[39m num_allow_args:\n\u001b[0;32m    326\u001b[0m     warnings\u001b[39m.\u001b[39mwarn(\n\u001b[0;32m    327\u001b[0m         msg\u001b[39m.\u001b[39mformat(arguments\u001b[39m=\u001b[39m_format_argument_list(allow_args)),\n\u001b[0;32m    328\u001b[0m         \u001b[39mFutureWarning\u001b[39;00m,\n\u001b[0;32m    329\u001b[0m         stacklevel\u001b[39m=\u001b[39mfind_stack_level(),\n\u001b[0;32m    330\u001b[0m     )\n\u001b[1;32m--> 331\u001b[0m \u001b[39mreturn\u001b[39;00m func(\u001b[39m*\u001b[39margs, \u001b[39m*\u001b[39m\u001b[39m*\u001b[39mkwargs)\n",
      "File \u001b[1;32mc:\\Users\\admin\\Documents\\projects\\pat2vec_time\\.venv\\lib\\site-packages\\pandas\\io\\parsers\\readers.py:950\u001b[0m, in \u001b[0;36mread_csv\u001b[1;34m(filepath_or_buffer, sep, delimiter, header, names, index_col, usecols, squeeze, prefix, mangle_dupe_cols, dtype, engine, converters, true_values, false_values, skipinitialspace, skiprows, skipfooter, nrows, na_values, keep_default_na, na_filter, verbose, skip_blank_lines, parse_dates, infer_datetime_format, keep_date_col, date_parser, dayfirst, cache_dates, iterator, chunksize, compression, thousands, decimal, lineterminator, quotechar, quoting, doublequote, escapechar, comment, encoding, encoding_errors, dialect, error_bad_lines, warn_bad_lines, on_bad_lines, delim_whitespace, low_memory, memory_map, float_precision, storage_options)\u001b[0m\n\u001b[0;32m    935\u001b[0m kwds_defaults \u001b[39m=\u001b[39m _refine_defaults_read(\n\u001b[0;32m    936\u001b[0m     dialect,\n\u001b[0;32m    937\u001b[0m     delimiter,\n\u001b[1;32m   (...)\u001b[0m\n\u001b[0;32m    946\u001b[0m     defaults\u001b[39m=\u001b[39m{\u001b[39m\"\u001b[39m\u001b[39mdelimiter\u001b[39m\u001b[39m\"\u001b[39m: \u001b[39m\"\u001b[39m\u001b[39m,\u001b[39m\u001b[39m\"\u001b[39m},\n\u001b[0;32m    947\u001b[0m )\n\u001b[0;32m    948\u001b[0m kwds\u001b[39m.\u001b[39mupdate(kwds_defaults)\n\u001b[1;32m--> 950\u001b[0m \u001b[39mreturn\u001b[39;00m _read(filepath_or_buffer, kwds)\n",
      "File \u001b[1;32mc:\\Users\\admin\\Documents\\projects\\pat2vec_time\\.venv\\lib\\site-packages\\pandas\\io\\parsers\\readers.py:605\u001b[0m, in \u001b[0;36m_read\u001b[1;34m(filepath_or_buffer, kwds)\u001b[0m\n\u001b[0;32m    602\u001b[0m _validate_names(kwds\u001b[39m.\u001b[39mget(\u001b[39m\"\u001b[39m\u001b[39mnames\u001b[39m\u001b[39m\"\u001b[39m, \u001b[39mNone\u001b[39;00m))\n\u001b[0;32m    604\u001b[0m \u001b[39m# Create the parser.\u001b[39;00m\n\u001b[1;32m--> 605\u001b[0m parser \u001b[39m=\u001b[39m TextFileReader(filepath_or_buffer, \u001b[39m*\u001b[39m\u001b[39m*\u001b[39mkwds)\n\u001b[0;32m    607\u001b[0m \u001b[39mif\u001b[39;00m chunksize \u001b[39mor\u001b[39;00m iterator:\n\u001b[0;32m    608\u001b[0m     \u001b[39mreturn\u001b[39;00m parser\n",
      "File \u001b[1;32mc:\\Users\\admin\\Documents\\projects\\pat2vec_time\\.venv\\lib\\site-packages\\pandas\\io\\parsers\\readers.py:1442\u001b[0m, in \u001b[0;36mTextFileReader.__init__\u001b[1;34m(self, f, engine, **kwds)\u001b[0m\n\u001b[0;32m   1439\u001b[0m     \u001b[39mself\u001b[39m\u001b[39m.\u001b[39moptions[\u001b[39m\"\u001b[39m\u001b[39mhas_index_names\u001b[39m\u001b[39m\"\u001b[39m] \u001b[39m=\u001b[39m kwds[\u001b[39m\"\u001b[39m\u001b[39mhas_index_names\u001b[39m\u001b[39m\"\u001b[39m]\n\u001b[0;32m   1441\u001b[0m \u001b[39mself\u001b[39m\u001b[39m.\u001b[39mhandles: IOHandles \u001b[39m|\u001b[39m \u001b[39mNone\u001b[39;00m \u001b[39m=\u001b[39m \u001b[39mNone\u001b[39;00m\n\u001b[1;32m-> 1442\u001b[0m \u001b[39mself\u001b[39m\u001b[39m.\u001b[39m_engine \u001b[39m=\u001b[39m \u001b[39mself\u001b[39;49m\u001b[39m.\u001b[39;49m_make_engine(f, \u001b[39mself\u001b[39;49m\u001b[39m.\u001b[39;49mengine)\n",
      "File \u001b[1;32mc:\\Users\\admin\\Documents\\projects\\pat2vec_time\\.venv\\lib\\site-packages\\pandas\\io\\parsers\\readers.py:1735\u001b[0m, in \u001b[0;36mTextFileReader._make_engine\u001b[1;34m(self, f, engine)\u001b[0m\n\u001b[0;32m   1733\u001b[0m     \u001b[39mif\u001b[39;00m \u001b[39m\"\u001b[39m\u001b[39mb\u001b[39m\u001b[39m\"\u001b[39m \u001b[39mnot\u001b[39;00m \u001b[39min\u001b[39;00m mode:\n\u001b[0;32m   1734\u001b[0m         mode \u001b[39m+\u001b[39m\u001b[39m=\u001b[39m \u001b[39m\"\u001b[39m\u001b[39mb\u001b[39m\u001b[39m\"\u001b[39m\n\u001b[1;32m-> 1735\u001b[0m \u001b[39mself\u001b[39m\u001b[39m.\u001b[39mhandles \u001b[39m=\u001b[39m get_handle(\n\u001b[0;32m   1736\u001b[0m     f,\n\u001b[0;32m   1737\u001b[0m     mode,\n\u001b[0;32m   1738\u001b[0m     encoding\u001b[39m=\u001b[39;49m\u001b[39mself\u001b[39;49m\u001b[39m.\u001b[39;49moptions\u001b[39m.\u001b[39;49mget(\u001b[39m\"\u001b[39;49m\u001b[39mencoding\u001b[39;49m\u001b[39m\"\u001b[39;49m, \u001b[39mNone\u001b[39;49;00m),\n\u001b[0;32m   1739\u001b[0m     compression\u001b[39m=\u001b[39;49m\u001b[39mself\u001b[39;49m\u001b[39m.\u001b[39;49moptions\u001b[39m.\u001b[39;49mget(\u001b[39m\"\u001b[39;49m\u001b[39mcompression\u001b[39;49m\u001b[39m\"\u001b[39;49m, \u001b[39mNone\u001b[39;49;00m),\n\u001b[0;32m   1740\u001b[0m     memory_map\u001b[39m=\u001b[39;49m\u001b[39mself\u001b[39;49m\u001b[39m.\u001b[39;49moptions\u001b[39m.\u001b[39;49mget(\u001b[39m\"\u001b[39;49m\u001b[39mmemory_map\u001b[39;49m\u001b[39m\"\u001b[39;49m, \u001b[39mFalse\u001b[39;49;00m),\n\u001b[0;32m   1741\u001b[0m     is_text\u001b[39m=\u001b[39;49mis_text,\n\u001b[0;32m   1742\u001b[0m     errors\u001b[39m=\u001b[39;49m\u001b[39mself\u001b[39;49m\u001b[39m.\u001b[39;49moptions\u001b[39m.\u001b[39;49mget(\u001b[39m\"\u001b[39;49m\u001b[39mencoding_errors\u001b[39;49m\u001b[39m\"\u001b[39;49m, \u001b[39m\"\u001b[39;49m\u001b[39mstrict\u001b[39;49m\u001b[39m\"\u001b[39;49m),\n\u001b[0;32m   1743\u001b[0m     storage_options\u001b[39m=\u001b[39;49m\u001b[39mself\u001b[39;49m\u001b[39m.\u001b[39;49moptions\u001b[39m.\u001b[39;49mget(\u001b[39m\"\u001b[39;49m\u001b[39mstorage_options\u001b[39;49m\u001b[39m\"\u001b[39;49m, \u001b[39mNone\u001b[39;49;00m),\n\u001b[0;32m   1744\u001b[0m )\n\u001b[0;32m   1745\u001b[0m \u001b[39massert\u001b[39;00m \u001b[39mself\u001b[39m\u001b[39m.\u001b[39mhandles \u001b[39mis\u001b[39;00m \u001b[39mnot\u001b[39;00m \u001b[39mNone\u001b[39;00m\n\u001b[0;32m   1746\u001b[0m f \u001b[39m=\u001b[39m \u001b[39mself\u001b[39m\u001b[39m.\u001b[39mhandles\u001b[39m.\u001b[39mhandle\n",
      "File \u001b[1;32mc:\\Users\\admin\\Documents\\projects\\pat2vec_time\\.venv\\lib\\site-packages\\pandas\\io\\common.py:856\u001b[0m, in \u001b[0;36mget_handle\u001b[1;34m(path_or_buf, mode, encoding, compression, memory_map, is_text, errors, storage_options)\u001b[0m\n\u001b[0;32m    851\u001b[0m \u001b[39melif\u001b[39;00m \u001b[39misinstance\u001b[39m(handle, \u001b[39mstr\u001b[39m):\n\u001b[0;32m    852\u001b[0m     \u001b[39m# Check whether the filename is to be opened in binary mode.\u001b[39;00m\n\u001b[0;32m    853\u001b[0m     \u001b[39m# Binary mode does not support 'encoding' and 'newline'.\u001b[39;00m\n\u001b[0;32m    854\u001b[0m     \u001b[39mif\u001b[39;00m ioargs\u001b[39m.\u001b[39mencoding \u001b[39mand\u001b[39;00m \u001b[39m\"\u001b[39m\u001b[39mb\u001b[39m\u001b[39m\"\u001b[39m \u001b[39mnot\u001b[39;00m \u001b[39min\u001b[39;00m ioargs\u001b[39m.\u001b[39mmode:\n\u001b[0;32m    855\u001b[0m         \u001b[39m# Encoding\u001b[39;00m\n\u001b[1;32m--> 856\u001b[0m         handle \u001b[39m=\u001b[39m \u001b[39mopen\u001b[39;49m(\n\u001b[0;32m    857\u001b[0m             handle,\n\u001b[0;32m    858\u001b[0m             ioargs\u001b[39m.\u001b[39;49mmode,\n\u001b[0;32m    859\u001b[0m             encoding\u001b[39m=\u001b[39;49mioargs\u001b[39m.\u001b[39;49mencoding,\n\u001b[0;32m    860\u001b[0m             errors\u001b[39m=\u001b[39;49merrors,\n\u001b[0;32m    861\u001b[0m             newline\u001b[39m=\u001b[39;49m\u001b[39m\"\u001b[39;49m\u001b[39m\"\u001b[39;49m,\n\u001b[0;32m    862\u001b[0m         )\n\u001b[0;32m    863\u001b[0m     \u001b[39melse\u001b[39;00m:\n\u001b[0;32m    864\u001b[0m         \u001b[39m# Binary mode\u001b[39;00m\n\u001b[0;32m    865\u001b[0m         handle \u001b[39m=\u001b[39m \u001b[39mopen\u001b[39m(handle, ioargs\u001b[39m.\u001b[39mmode)\n",
      "\u001b[1;31mFileNotFoundError\u001b[0m: [Errno 2] No such file or directory: 'treatment_docs.csv'"
     ]
    }
   ],
   "source": [
    "pat2vec_obj = main( cogstack=True, use_filter=False,\n",
    "             json_filter_path = None, random_seed_val=42, \n",
    "             hostname =None, config_obj= config_obj, )\n"
   ]
  },
  {
   "cell_type": "markdown",
   "metadata": {},
   "source": [
    "View patient list"
   ]
  },
  {
   "cell_type": "code",
   "execution_count": null,
   "metadata": {},
   "outputs": [],
   "source": [
    "pat2vec_obj.all_patient_list"
   ]
  },
  {
   "cell_type": "markdown",
   "metadata": {},
   "source": [
    "Make pat vectors for pat 0"
   ]
  },
  {
   "cell_type": "code",
   "execution_count": null,
   "metadata": {},
   "outputs": [],
   "source": [
    "pat2vec_obj.pat_maker(0)"
   ]
  },
  {
   "cell_type": "code",
   "execution_count": null,
   "metadata": {},
   "outputs": [],
   "source": [
    "\n",
    "input_directory = 'new_project/current_pat_lines_parts'\n",
    "output_csv_file = 'output_file.csv'\n",
    "\n",
    "\n",
    "process_csv_files(input_directory, out_folder='outputs', output_filename_suffix=output_csv_file, part_size=336)\n",
    "\n"
   ]
  },
  {
   "cell_type": "code",
   "execution_count": null,
   "metadata": {},
   "outputs": [],
   "source": [
    "df = pd.read_csv(output_csv_file)"
   ]
  },
  {
   "cell_type": "code",
   "execution_count": null,
   "metadata": {},
   "outputs": [],
   "source": [
    "df"
   ]
  },
  {
   "cell_type": "code",
   "execution_count": null,
   "metadata": {},
   "outputs": [],
   "source": [
    "\n",
    "\n",
    "\n",
    "df = extract_datetime_to_column(df)"
   ]
  },
  {
   "cell_type": "markdown",
   "metadata": {},
   "source": [
    "### Filter the annotation batches by a snomed cui and its related codes. "
   ]
  },
  {
   "cell_type": "code",
   "execution_count": null,
   "metadata": {},
   "outputs": [],
   "source": [
    "from snomed_methods import snomed_methods_v1\n",
    "snomed_relations_obj = snomed_methods_v1.snomed_relations(medcat=True)\n",
    "\n",
    "outcome_variable_cui_for_filter = '40733004'  # infection\n",
    "\n",
    "print(outcome_variable_cui_for_filter)\n",
    "\n",
    "filter_root_cui = outcome_variable_cui_for_filter\n",
    "print(filter_root_cui)\n",
    "\n",
    "retrieved_codes_snomed_tree, retrieved_names_snomed_tree = snomed_relations_obj.recursive_code_expansion(filter_root_cui, n_recursion = 3, debug=False)\n",
    "\n",
    "retrieved_codes_snomed_tree[0:5], len(retrieved_codes_snomed_tree), len(retrieved_names_snomed_tree)\n",
    "\n",
    "\n",
    "\n"
   ]
  },
  {
   "cell_type": "code",
   "execution_count": null,
   "metadata": {},
   "outputs": [],
   "source": [
    "retrieved_names_snomed_tree[0:10]"
   ]
  },
  {
   "cell_type": "code",
   "execution_count": null,
   "metadata": {},
   "outputs": [],
   "source": [
    "retrieved_codes_medcat_cdb, retrieved_names_medcat_cdb  = snomed_relations_obj.get_medcat_cdb_most_similar(filter_root_cui, context_type = 'xxxlong', type_id_filter=[], topn=25)"
   ]
  },
  {
   "cell_type": "code",
   "execution_count": null,
   "metadata": {},
   "outputs": [],
   "source": [
    "retrieved_names_medcat_cdb[0:10]"
   ]
  },
  {
   "cell_type": "code",
   "execution_count": null,
   "metadata": {},
   "outputs": [],
   "source": [
    "all_names_list = list(set(retrieved_names_medcat_cdb + retrieved_names_snomed_tree))\n",
    "\n",
    "all_codes_list = list(set(retrieved_codes_medcat_cdb + retrieved_codes_snomed_tree))\n",
    "\n",
    "print(len(all_names_list))"
   ]
  },
  {
   "cell_type": "code",
   "execution_count": null,
   "metadata": {},
   "outputs": [],
   "source": []
  },
  {
   "cell_type": "code",
   "execution_count": null,
   "metadata": {},
   "outputs": [],
   "source": [
    "\n",
    "\n",
    "all_pat_list_ = get_all_patients_list(config_obj=pat2vec_obj.config_obj)\n",
    "\n",
    "\n",
    "all_annot_filtered_df = produce_filtered_annotation_dataframe(cui_filter=True, meta_annot_filter=True, pat_list=all_pat_list_, config_obj=pat2vec_obj.config_obj, filter_custom_args=pat2vec_obj.config_obj.annot_filter_options, cui_code_list=all_codes_list)"
   ]
  },
  {
   "cell_type": "code",
   "execution_count": null,
   "metadata": {},
   "outputs": [],
   "source": [
    "all_annot_filtered_df"
   ]
  }
 ],
 "metadata": {
  "kernelspec": {
   "display_name": ".venv",
   "language": "python",
   "name": "python3"
  },
  "language_info": {
   "codemirror_mode": {
    "name": "ipython",
    "version": 3
   },
   "file_extension": ".py",
   "mimetype": "text/x-python",
   "name": "python",
   "nbconvert_exporter": "python",
   "pygments_lexer": "ipython3",
   "version": "3.10.6"
  }
 },
 "nbformat": 4,
 "nbformat_minor": 2
}
